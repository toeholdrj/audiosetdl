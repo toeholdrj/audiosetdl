{
 "cells": [
  {
   "cell_type": "code",
   "execution_count": 1,
   "metadata": {
    "collapsed": true
   },
   "outputs": [],
   "source": [
    "import sys\n",
    "sys.path.append('..')\n",
    "import os\n",
    "import shutil\n",
    "import time\n",
    "import numpy as np\n",
    "import matplotlib.pyplot as plt\n",
    "import multiprocessing_logging\n",
    "\n",
    "from download_audioset import download_subset_files, BALANCED_TRAIN_URL, init_console_logger"
   ]
  },
  {
   "cell_type": "code",
   "execution_count": 2,
   "metadata": {
    "collapsed": true
   },
   "outputs": [],
   "source": [
    "# Configurations\n",
    "data_dir = 'test'\n",
    "ffmpeg_path = '../bin/ffmpeg/ffmpeg'\n",
    "num_videos = 25"
   ]
  },
  {
   "cell_type": "code",
   "execution_count": 3,
   "metadata": {
    "collapsed": true
   },
   "outputs": [],
   "source": [
    "init_console_logger(True)\n",
    "multiprocessing_logging.install_mp_handler()"
   ]
  },
  {
   "cell_type": "code",
   "execution_count": 4,
   "metadata": {
    "collapsed": true
   },
   "outputs": [],
   "source": [
    "def get_file_sizes(top, exts=None):\n",
    "    if exts is None:\n",
    "        exts = []\n",
    "\n",
    "    total_size = 0\n",
    "    \n",
    "    ext_sizes = {}\n",
    "    for idx, ext in enumerate(exts):\n",
    "        # Ensure extensions start with a period\n",
    "        if ext[0] != '.':\n",
    "            exts[idx] = '.' + ext\n",
    "        ext_sizes[ext] = []\n",
    "        \n",
    "    exts = set(exts)\n",
    "        \n",
    "    for root, dirs, files in os.walk(top):\n",
    "        for filename in files:\n",
    "            path = os.path.join(root, filename)\n",
    "            size = os.path.getsize(path)\n",
    "            total_size += size\n",
    "            \n",
    "            ext = os.path.splitext(filename)[-1]\n",
    "            if ext in exts:\n",
    "                ext_sizes[ext].append(size)\n",
    "    return total_size, ext_sizes"
   ]
  },
  {
   "cell_type": "code",
   "execution_count": 6,
   "metadata": {
    "collapsed": true
   },
   "outputs": [],
   "source": [
    "def examine_results(data_dir, exts, total_time):\n",
    "    total_size, ext_sizes = get_file_sizes(data_dir, exts)\n",
    "    for ext in exts:\n",
    "        sizes = np.array(ext_sizes[ext]) / 1000000 # Convert to MB (MEGABytes)\n",
    "        print(ext)\n",
    "        print(\"==========================\")\n",
    "        print(\"Number of files:\\t{}\".format(sizes.size))\n",
    "        print(\"Total size:\\t\\t{0:.2f} MB\".format(np.sum(sizes)))\n",
    "        mean = np.mean(sizes)\n",
    "        print(\"Mean:\\t\\t\\t{0:.2f} MB\".format(mean))\n",
    "        print(\"Median:\\t\\t\\t{0:.2f} MB\".format(np.median(sizes)))\n",
    "        print(\"Std. Dev.:\\t\\t{0:.2f} MB\".format(np.std(sizes)))\n",
    "        print(\"\")\n",
    "        print(\"Estimated Size for 2.1MM Tracks:\\t{0:.2f} TB\".format(2100000 * mean/1000000))\n",
    "        \n",
    "        plt.figure()\n",
    "        plt.hist(sizes)\n",
    "        plt.title('Distribution of {} file sizes'.format(ext))\n",
    "        plt.xlabel('File size (MB)')\n",
    "        plt.ylabel('Frequency')\n",
    "        plt.show()\n",
    "        \n",
    "    print(\"Total processing time:\\t{0:.2f} sec\".format(total_time))\n",
    "    print(\"Processing time per video:\\t{0:.2f} sec\".format(total_time / sizes.size))\n",
    "\n",
    "        "
   ]
  },
  {
   "cell_type": "markdown",
   "metadata": {},
   "source": [
    "# Examine the distribution of file sizes per file type when audio is included in the video files"
   ]
  },
  {
   "cell_type": "code",
   "execution_count": null,
   "metadata": {},
   "outputs": [
    {
     "name": "stderr",
     "output_type": "stream",
     "text": [
      "2017-09-29 00:38:48,188 - audiosetdl - INFO - Downloading subset file for \"balanced_train_segments\"\n",
      "2017-09-29 00:38:48,550 - audiosetdl - INFO - Starting download jobs for subset \"balanced_train_segments\"\n",
      "2017-09-29 00:38:48,568 - audiosetdl - INFO - Attempting to download video --PJHxphWEs (30.0 - 40.0)\n",
      "2017-09-29 00:38:48,567 - audiosetdl - INFO - Reached maximum (50) for subset balanced_train_segments\n",
      "2017-09-29 00:38:48,568 - audiosetdl - INFO - Attempting to download video --aE2O5G5WE (0.0 - 10.0)\n",
      "2017-09-29 00:38:48,568 - audiosetdl - INFO - Attempting to download video --ZhevVpy1s (50.0 - 60.0)\n",
      "2017-09-29 00:38:48,570 - audiosetdl - INFO - Attempting to download video --aO5cdqSAg (30.0 - 40.0)\n",
      "2017-09-29 00:38:57,390 - audiosetdl - INFO - Downloaded video --aO5cdqSAg (30.0 - 40.0)\n",
      "2017-09-29 00:38:57,402 - audiosetdl - INFO - Attempting to download video --aaILOrkII (200.0 - 210.0)\n",
      "2017-09-29 00:39:23,381 - audiosetdl - INFO - Downloaded video --aE2O5G5WE (0.0 - 10.0)\n",
      "2017-09-29 00:39:23,404 - audiosetdl - INFO - Attempting to download video --cB2ZVjpnA (30.0 - 40.0)\n",
      "2017-09-29 00:39:27,578 - audiosetdl - INFO - Downloaded video --PJHxphWEs (30.0 - 40.0)\n",
      "2017-09-29 00:39:27,590 - audiosetdl - INFO - Attempting to download video --ekDLDTUXA (30.0 - 40.0)\n",
      "2017-09-29 00:39:34,093 - audiosetdl - INFO - Downloaded video --ZhevVpy1s (50.0 - 60.0)\n",
      "2017-09-29 00:39:34,113 - audiosetdl - INFO - Attempting to download video -0DLPzsiXXE (30.0 - 40.0)\n",
      "2017-09-29 00:39:48,419 - audiosetdl - INFO - Downloaded video -0DLPzsiXXE (30.0 - 40.0)\n",
      "2017-09-29 00:39:48,429 - audiosetdl - INFO - Attempting to download video -0DdlOuIFUI (50.0 - 60.0)\n",
      "2017-09-29 00:39:51,120 - audiosetdl - INFO - Downloaded video --cB2ZVjpnA (30.0 - 40.0)\n",
      "2017-09-29 00:39:51,122 - audiosetdl - INFO - Attempting to download video -0FHUc78Gqo (30.0 - 40.0)\n",
      "2017-09-29 00:39:57,137 - audiosetdl - INFO - Downloaded video --aaILOrkII (200.0 - 210.0)\n",
      "2017-09-29 00:39:57,156 - audiosetdl - INFO - Attempting to download video -0O3e95y4gE (100.0 - 110.0)\n",
      "2017-09-29 00:39:58,240 - audiosetdl - INFO - Downloaded video -0FHUc78Gqo (30.0 - 40.0)\n",
      "2017-09-29 00:39:58,250 - audiosetdl - INFO - Attempting to download video -0SdAVK79lg (30.0 - 40.0)\n",
      "2017-09-29 00:39:58,583 - audiosetdl - INFO - Downloaded video -0DdlOuIFUI (50.0 - 60.0)\n",
      "2017-09-29 00:39:58,585 - audiosetdl - INFO - Attempting to download video -0Vl4HyWRk8 (410.0 - 420.0)\n",
      "ERROR: -0Vl4HyWRk8: YouTube said: \"Mata Ki Chow...\"\n",
      "The YouTube account associated with this video has been terminated due to multiple third-party notifications of copyright infringement.\n",
      "2017-09-29 00:40:00,310 - audiosetdl - ERROR - Error while processing video -0Vl4HyWRk8: ERROR: -0Vl4HyWRk8: Youtube says: \"Mata Ki Chow...\"\n",
      "The YouTube account associated with this video has been terminated due to multiple third-party notifications of copyright infringement.; Traceback (most recent call last):\n",
      "  File \"/home/jsondotload/projects/research/marl/sonyc/audiosetdl/bin/miniconda/lib/python3.6/site-packages/youtube_dl/YoutubeDL.py\", line 776, in extract_info\n",
      "    ie_result = ie.extract(url)\n",
      "  File \"/home/jsondotload/projects/research/marl/sonyc/audiosetdl/bin/miniconda/lib/python3.6/site-packages/youtube_dl/extractor/common.py\", line 434, in extract\n",
      "    ie_result = self._real_extract(url)\n",
      "  File \"/home/jsondotload/projects/research/marl/sonyc/audiosetdl/bin/miniconda/lib/python3.6/site-packages/youtube_dl/extractor/youtube.py\", line 1608, in _real_extract\n",
      "    expected=True, video_id=video_id)\n",
      "youtube_dl.utils.ExtractorError: -0Vl4HyWRk8: YouTube said: \"Mata Ki Chow...\"\n",
      "The YouTube account associated with this video has been terminated due to multiple third-party notifications of copyright infringement.\n",
      "\n",
      "During handling of the above exception, another exception occurred:\n",
      "\n",
      "Traceback (most recent call last):\n",
      "  File \"/home/jsondotload/projects/research/marl/sonyc/audiosetdl/bin/miniconda/lib/python3.6/site-packages/pafy/backend_youtube_dl.py\", line 38, in _fetch_basic\n",
      "    self._ydl_info = ydl.extract_info(self.videoid, download=False)\n",
      "  File \"/home/jsondotload/projects/research/marl/sonyc/audiosetdl/bin/miniconda/lib/python3.6/site-packages/youtube_dl/YoutubeDL.py\", line 799, in extract_info\n",
      "    self.report_error(compat_str(e), e.format_traceback())\n",
      "  File \"/home/jsondotload/projects/research/marl/sonyc/audiosetdl/bin/miniconda/lib/python3.6/site-packages/youtube_dl/YoutubeDL.py\", line 604, in report_error\n",
      "    self.trouble(error_message, tb)\n",
      "  File \"/home/jsondotload/projects/research/marl/sonyc/audiosetdl/bin/miniconda/lib/python3.6/site-packages/youtube_dl/YoutubeDL.py\", line 574, in trouble\n",
      "    raise DownloadError(message, exc_info)\n",
      "youtube_dl.utils.DownloadError: ERROR: -0Vl4HyWRk8: YouTube said: \"Mata Ki Chow...\"\n",
      "The YouTube account associated with this video has been terminated due to multiple third-party notifications of copyright infringement.\n",
      "\n",
      "During handling of the above exception, another exception occurred:\n",
      "\n",
      "Traceback (most recent call last):\n",
      "  File \"../download_audioset.py\", line 354, in segment_mp_worker\n",
      "    download_yt_video(ytid, ts_start, ts_end, data_dir, ffmpeg_path)\n",
      "  File \"../download_audioset.py\", line 284, in download_yt_video\n",
      "    video = pafy.new(video_page_url)\n",
      "  File \"/home/jsondotload/projects/research/marl/sonyc/audiosetdl/bin/miniconda/lib/python3.6/site-packages/pafy/pafy.py\", line 122, in new\n",
      "    return Pafy(url, basic, gdata, size, callback, ydl_opts)\n",
      "  File \"/home/jsondotload/projects/research/marl/sonyc/audiosetdl/bin/miniconda/lib/python3.6/site-packages/pafy/backend_youtube_dl.py\", line 29, in __init__\n",
      "    super(YtdlPafy, self).__init__(*args, **kwargs)\n",
      "  File \"/home/jsondotload/projects/research/marl/sonyc/audiosetdl/bin/miniconda/lib/python3.6/site-packages/pafy/backend_shared.py\", line 96, in __init__\n",
      "    self._fetch_basic()\n",
      "  File \"/home/jsondotload/projects/research/marl/sonyc/audiosetdl/bin/miniconda/lib/python3.6/site-packages/pafy/backend_youtube_dl.py\", line 41, in _fetch_basic\n",
      "    raise IOError(str(e).replace('YouTube said', 'Youtube says'))\n",
      "OSError: ERROR: -0Vl4HyWRk8: Youtube says: \"Mata Ki Chow...\"\n",
      "The YouTube account associated with this video has been terminated due to multiple third-party notifications of copyright infringement.\n",
      "\n",
      "2017-09-29 00:40:00,353 - audiosetdl - INFO - Attempting to download video -0mG4W5Hlq8 (270.0 - 280.0)\n",
      "2017-09-29 00:40:08,432 - audiosetdl - INFO - Downloaded video -0mG4W5Hlq8 (270.0 - 280.0)\n",
      "2017-09-29 00:40:08,442 - audiosetdl - INFO - Attempting to download video -0mjrMposBM (80.0 - 90.0)\n",
      "2017-09-29 00:40:18,363 - audiosetdl - INFO - Downloaded video --ekDLDTUXA (30.0 - 40.0)\n",
      "2017-09-29 00:40:18,381 - audiosetdl - INFO - Attempting to download video -11LhdJgBb8 (30.0 - 40.0)\n",
      "2017-09-29 00:40:20,404 - audiosetdl - INFO - Downloaded video -0O3e95y4gE (100.0 - 110.0)\n",
      "2017-09-29 00:40:20,425 - audiosetdl - INFO - Attempting to download video -1LrH01Ei1w (30.0 - 40.0)\n",
      "2017-09-29 00:40:25,525 - audiosetdl - INFO - Downloaded video -1LrH01Ei1w (30.0 - 40.0)\n",
      "2017-09-29 00:40:25,530 - audiosetdl - INFO - Attempting to download video -1TLtjPtnms (10.0 - 20.0)\n",
      "2017-09-29 00:40:27,457 - audiosetdl - INFO - Downloaded video -0SdAVK79lg (30.0 - 40.0)\n",
      "2017-09-29 00:40:27,463 - audiosetdl - INFO - Attempting to download video -1iKLvsRBbE (80.0 - 90.0)\n",
      "2017-09-29 00:40:30,881 - audiosetdl - INFO - Downloaded video -1TLtjPtnms (10.0 - 20.0)\n",
      "2017-09-29 00:40:30,891 - audiosetdl - INFO - Attempting to download video -24dqQM_rDk (30.0 - 40.0)\n",
      "2017-09-29 00:40:40,017 - audiosetdl - INFO - Downloaded video -24dqQM_rDk (30.0 - 40.0)\n",
      "2017-09-29 00:40:40,028 - audiosetdl - INFO - Attempting to download video -275_wTLm-4 (7.0 - 17.0)\n",
      "2017-09-29 00:40:44,120 - audiosetdl - INFO - Downloaded video -11LhdJgBb8 (30.0 - 40.0)\n",
      "2017-09-29 00:40:44,149 - audiosetdl - INFO - Attempting to download video -28U1_qW0sU (30.0 - 40.0)\n",
      "2017-09-29 00:40:46,877 - audiosetdl - INFO - Downloaded video -0mjrMposBM (80.0 - 90.0)\n",
      "2017-09-29 00:40:46,880 - audiosetdl - INFO - Attempting to download video -2PDE7hUArE (30.0 - 40.0)\n",
      "2017-09-29 00:40:51,330 - audiosetdl - INFO - Downloaded video -28U1_qW0sU (30.0 - 40.0)\n",
      "2017-09-29 00:40:51,334 - audiosetdl - INFO - Attempting to download video -2X03mO3T_U (30.0 - 40.0)\n"
     ]
    },
    {
     "name": "stderr",
     "output_type": "stream",
     "text": [
      "2017-09-29 00:40:51,966 - audiosetdl - INFO - Downloaded video -275_wTLm-4 (7.0 - 17.0)\n",
      "2017-09-29 00:40:51,983 - audiosetdl - INFO - Attempting to download video -2hQKCE-oTI (30.0 - 40.0)\n",
      "2017-09-29 00:40:58,084 - audiosetdl - INFO - Downloaded video -2PDE7hUArE (30.0 - 40.0)\n",
      "2017-09-29 00:40:58,110 - audiosetdl - INFO - Attempting to download video -30H9V1IKps (6.0 - 16.0)\n",
      "2017-09-29 00:41:00,446 - audiosetdl - INFO - Downloaded video -2X03mO3T_U (30.0 - 40.0)\n",
      "2017-09-29 00:41:00,448 - audiosetdl - INFO - Attempting to download video -38Qgsbh7NQ (100.0 - 110.0)\n",
      "2017-09-29 00:41:05,619 - audiosetdl - INFO - Downloaded video -2hQKCE-oTI (30.0 - 40.0)\n",
      "2017-09-29 00:41:05,629 - audiosetdl - INFO - Attempting to download video -3HYdaJyF4U (30.0 - 40.0)\n",
      "2017-09-29 00:41:05,715 - audiosetdl - INFO - Downloaded video -30H9V1IKps (6.0 - 16.0)\n",
      "2017-09-29 00:41:05,717 - audiosetdl - INFO - Attempting to download video -3IGxVTJvgI (30.0 - 40.0)\n",
      "2017-09-29 00:41:06,230 - audiosetdl - INFO - Downloaded video -38Qgsbh7NQ (100.0 - 110.0)\n",
      "2017-09-29 00:41:06,236 - audiosetdl - INFO - Attempting to download video -3IYpJfLVJk (30.0 - 40.0)\n",
      "2017-09-29 00:41:07,519 - audiosetdl - INFO - Downloaded video -1iKLvsRBbE (80.0 - 90.0)\n",
      "2017-09-29 00:41:07,520 - audiosetdl - INFO - Attempting to download video -3hKkjKmIGE (30.0 - 40.0)\n",
      "2017-09-29 00:41:13,187 - audiosetdl - INFO - Downloaded video -3IGxVTJvgI (30.0 - 40.0)\n",
      "2017-09-29 00:41:13,189 - audiosetdl - INFO - Attempting to download video -3pPrlCm6gg (30.0 - 40.0)\n",
      "2017-09-29 00:41:16,016 - audiosetdl - INFO - Downloaded video -3HYdaJyF4U (30.0 - 40.0)\n",
      "2017-09-29 00:41:16,021 - audiosetdl - INFO - Attempting to download video -4NLarMj4xU (30.0 - 40.0)\n",
      "2017-09-29 00:41:18,229 - audiosetdl - INFO - Downloaded video -3hKkjKmIGE (30.0 - 40.0)\n",
      "2017-09-29 00:41:18,237 - audiosetdl - INFO - Attempting to download video -4RWqM0UCCY (0.0 - 10.0)\n",
      "2017-09-29 00:41:21,936 - audiosetdl - INFO - Downloaded video -3pPrlCm6gg (30.0 - 40.0)\n",
      "2017-09-29 00:41:21,942 - audiosetdl - INFO - Attempting to download video -4hZyOdm7EI (200.0 - 210.0)\n",
      "2017-09-29 00:41:26,739 - audiosetdl - INFO - Downloaded video -3IYpJfLVJk (30.0 - 40.0)\n",
      "2017-09-29 00:41:26,744 - audiosetdl - INFO - Attempting to download video -4xJv59_zcA (30.0 - 40.0)\n",
      "2017-09-29 00:41:27,069 - audiosetdl - INFO - Downloaded video -4hZyOdm7EI (200.0 - 210.0)\n",
      "2017-09-29 00:41:27,071 - audiosetdl - INFO - Attempting to download video -5-vmt2iKT0 (30.0 - 40.0)\n",
      "2017-09-29 00:41:27,212 - audiosetdl - INFO - Downloaded video -4NLarMj4xU (30.0 - 40.0)\n",
      "2017-09-29 00:41:27,223 - audiosetdl - INFO - Attempting to download video -5DdYkYOjy0 (30.0 - 40.0)\n",
      "2017-09-29 00:41:28,892 - audiosetdl - INFO - Downloaded video -4RWqM0UCCY (0.0 - 10.0)\n",
      "2017-09-29 00:41:28,908 - audiosetdl - INFO - Attempting to download video -5GhUbDLYkQ (16.0 - 26.0)\n",
      "2017-09-29 00:41:34,885 - audiosetdl - INFO - Downloaded video -5DdYkYOjy0 (30.0 - 40.0)\n",
      "2017-09-29 00:41:34,889 - audiosetdl - INFO - Attempting to download video -5Jlimvsuwo (90.0 - 100.0)\n",
      "2017-09-29 00:41:35,613 - audiosetdl - INFO - Downloaded video -5-vmt2iKT0 (30.0 - 40.0)\n",
      "2017-09-29 00:41:35,618 - audiosetdl - INFO - Attempting to download video -5Kk-m7BmiE (21.0 - 31.0)\n",
      "2017-09-29 00:41:42,177 - audiosetdl - INFO - Downloaded video -5GhUbDLYkQ (16.0 - 26.0)\n",
      "2017-09-29 00:41:42,185 - audiosetdl - INFO - Attempting to download video -5S70zOSw30 (30.0 - 40.0)\n"
     ]
    }
   ],
   "source": [
    "t_start = time.time()\n",
    "download_subset_files(BALANCED_TRAIN_URL, data_dir, ffmpeg_path, 4, max_videos=50)\n",
    "t_vwa = time.time() - t_start"
   ]
  },
  {
   "cell_type": "code",
   "execution_count": 10,
   "metadata": {},
   "outputs": [
    {
     "name": "stdout",
     "output_type": "stream",
     "text": [
      ".mp4\n",
      "==========================\n",
      "Number of files:\t49\n",
      "Total size:\t\t59.29 MB\n",
      "Mean:\t\t\t1.21 MB\n",
      "Median:\t\t\t0.78 MB\n",
      "Std. Dev.:\t\t1.12 MB\n",
      "\n",
      "Estimated Size for 2.1MM Tracks:\t2540967.09 MB\n"
     ]
    },
    {
     "data": {
      "image/png": "[encoded data removed]",
      "text/plain": [
       "<matplotlib.figure.Figure at 0x7f4668b821d0>"
      ]
     },
     "metadata": {},
     "output_type": "display_data"
    },
    {
     "name": "stdout",
     "output_type": "stream",
     "text": [
      ".flac\n",
      "==========================\n",
      "Number of files:\t49\n",
      "Total size:\t\t32.45 MB\n",
      "Mean:\t\t\t0.66 MB\n",
      "Median:\t\t\t0.62 MB\n",
      "Std. Dev.:\t\t0.28 MB\n",
      "\n",
      "Estimated Size for 2.1MM Tracks:\t1390691.31 MB\n"
     ]
    },
    {
     "data": {
      "image/png": "[encoded data removed]",
      "text/plain": [
       "<matplotlib.figure.Figure at 0x7f4668b05e10>"
      ]
     },
     "metadata": {},
     "output_type": "display_data"
    },
    {
     "name": "stdout",
     "output_type": "stream",
     "text": [
      "Total processing time:\t44.92 sec\n",
      "Processing time per video:\t0.92 sec\n"
     ]
    }
   ],
   "source": [
    "examine_results(data_dir, ['.mp4', '.flac'], t_vwa)"
   ]
  },
  {
   "cell_type": "code",
   "execution_count": 11,
   "metadata": {
    "collapsed": true
   },
   "outputs": [],
   "source": [
    "shutil.rmtree(data_dir)"
   ]
  },
  {
   "cell_type": "markdown",
   "metadata": {},
   "source": [
    "# Examine the distribution of file sizes per file type when audio is NOT included in the video files"
   ]
  },
  {
   "cell_type": "code",
   "execution_count": 10,
   "metadata": {},
   "outputs": [
    {
     "name": "stderr",
     "output_type": "stream",
     "text": [
      "2017-09-29 00:33:01,871 - audiosetdl - INFO - Downloading subset file for \"balanced_train_segments\"\n",
      "2017-09-29 00:33:02,398 - audiosetdl - INFO - Starting download jobs for subset \"balanced_train_segments\"\n",
      "2017-09-29 00:33:02,415 - audiosetdl - INFO - Reached maximum (50) for subset balanced_train_segments\n",
      "2017-09-29 00:33:02,415 - audiosetdl - INFO - Attempting to download video --ZhevVpy1s (50.0 - 60.0)\n",
      "2017-09-29 00:33:02,417 - audiosetdl - INFO - Attempting to download video --aE2O5G5WE (0.0 - 10.0)\n",
      "2017-09-29 00:33:02,415 - audiosetdl - INFO - Attempting to download video --PJHxphWEs (30.0 - 40.0)\n",
      "2017-09-29 00:33:02,421 - audiosetdl - INFO - Attempting to download video --aO5cdqSAg (30.0 - 40.0)\n",
      "2017-09-29 00:33:11,093 - audiosetdl - INFO - Downloaded video --aO5cdqSAg (30.0 - 40.0)\n",
      "2017-09-29 00:33:11,102 - audiosetdl - INFO - Attempting to download video --aaILOrkII (200.0 - 210.0)\n",
      "2017-09-29 00:33:37,691 - audiosetdl - INFO - Downloaded video --aE2O5G5WE (0.0 - 10.0)\n",
      "2017-09-29 00:33:37,710 - audiosetdl - INFO - Attempting to download video --cB2ZVjpnA (30.0 - 40.0)\n",
      "2017-09-29 00:33:38,980 - audiosetdl - INFO - Downloaded video --PJHxphWEs (30.0 - 40.0)\n",
      "2017-09-29 00:33:38,987 - audiosetdl - INFO - Attempting to download video --ekDLDTUXA (30.0 - 40.0)\n",
      "2017-09-29 00:33:48,548 - audiosetdl - INFO - Downloaded video --ZhevVpy1s (50.0 - 60.0)\n",
      "2017-09-29 00:33:48,565 - audiosetdl - INFO - Attempting to download video -0DLPzsiXXE (30.0 - 40.0)\n",
      "2017-09-29 00:34:01,468 - audiosetdl - INFO - Downloaded video -0DLPzsiXXE (30.0 - 40.0)\n",
      "2017-09-29 00:34:01,474 - audiosetdl - INFO - Attempting to download video -0DdlOuIFUI (50.0 - 60.0)\n",
      "2017-09-29 00:34:01,511 - audiosetdl - INFO - Downloaded video --cB2ZVjpnA (30.0 - 40.0)\n",
      "2017-09-29 00:34:01,512 - audiosetdl - INFO - Attempting to download video -0FHUc78Gqo (30.0 - 40.0)\n",
      "2017-09-29 00:34:02,416 - audiosetdl - INFO - Downloaded video --aaILOrkII (200.0 - 210.0)\n",
      "2017-09-29 00:34:02,446 - audiosetdl - INFO - Attempting to download video -0O3e95y4gE (100.0 - 110.0)\n",
      "2017-09-29 00:34:08,746 - audiosetdl - INFO - Downloaded video -0FHUc78Gqo (30.0 - 40.0)\n",
      "2017-09-29 00:34:08,758 - audiosetdl - INFO - Attempting to download video -0SdAVK79lg (30.0 - 40.0)\n",
      "2017-09-29 00:34:09,969 - audiosetdl - INFO - Downloaded video -0DdlOuIFUI (50.0 - 60.0)\n",
      "2017-09-29 00:34:09,976 - audiosetdl - INFO - Attempting to download video -0Vl4HyWRk8 (410.0 - 420.0)\n",
      "ERROR: -0Vl4HyWRk8: YouTube said: \"Mata Ki Chow...\"\n",
      "The YouTube account associated with this video has been terminated due to multiple third-party notifications of copyright infringement.\n",
      "2017-09-29 00:34:11,811 - audiosetdl - ERROR - Error while processing video -0Vl4HyWRk8: ERROR: -0Vl4HyWRk8: Youtube says: \"Mata Ki Chow...\"\n",
      "The YouTube account associated with this video has been terminated due to multiple third-party notifications of copyright infringement.; Traceback (most recent call last):\n",
      "  File \"/home/jsondotload/projects/research/marl/sonyc/audiosetdl/bin/miniconda/lib/python3.6/site-packages/youtube_dl/YoutubeDL.py\", line 776, in extract_info\n",
      "    ie_result = ie.extract(url)\n",
      "  File \"/home/jsondotload/projects/research/marl/sonyc/audiosetdl/bin/miniconda/lib/python3.6/site-packages/youtube_dl/extractor/common.py\", line 434, in extract\n",
      "    ie_result = self._real_extract(url)\n",
      "  File \"/home/jsondotload/projects/research/marl/sonyc/audiosetdl/bin/miniconda/lib/python3.6/site-packages/youtube_dl/extractor/youtube.py\", line 1608, in _real_extract\n",
      "    expected=True, video_id=video_id)\n",
      "youtube_dl.utils.ExtractorError: -0Vl4HyWRk8: YouTube said: \"Mata Ki Chow...\"\n",
      "The YouTube account associated with this video has been terminated due to multiple third-party notifications of copyright infringement.\n",
      "\n",
      "During handling of the above exception, another exception occurred:\n",
      "\n",
      "Traceback (most recent call last):\n",
      "  File \"/home/jsondotload/projects/research/marl/sonyc/audiosetdl/bin/miniconda/lib/python3.6/site-packages/pafy/backend_youtube_dl.py\", line 38, in _fetch_basic\n",
      "    self._ydl_info = ydl.extract_info(self.videoid, download=False)\n",
      "  File \"/home/jsondotload/projects/research/marl/sonyc/audiosetdl/bin/miniconda/lib/python3.6/site-packages/youtube_dl/YoutubeDL.py\", line 799, in extract_info\n",
      "    self.report_error(compat_str(e), e.format_traceback())\n",
      "  File \"/home/jsondotload/projects/research/marl/sonyc/audiosetdl/bin/miniconda/lib/python3.6/site-packages/youtube_dl/YoutubeDL.py\", line 604, in report_error\n",
      "    self.trouble(error_message, tb)\n",
      "  File \"/home/jsondotload/projects/research/marl/sonyc/audiosetdl/bin/miniconda/lib/python3.6/site-packages/youtube_dl/YoutubeDL.py\", line 574, in trouble\n",
      "    raise DownloadError(message, exc_info)\n",
      "youtube_dl.utils.DownloadError: ERROR: -0Vl4HyWRk8: YouTube said: \"Mata Ki Chow...\"\n",
      "The YouTube account associated with this video has been terminated due to multiple third-party notifications of copyright infringement.\n",
      "\n",
      "During handling of the above exception, another exception occurred:\n",
      "\n",
      "Traceback (most recent call last):\n",
      "  File \"../download_audioset.py\", line 354, in segment_mp_worker\n",
      "    download_yt_video(ytid, ts_start, ts_end, data_dir, ffmpeg_path)\n",
      "  File \"../download_audioset.py\", line 284, in download_yt_video\n",
      "    video = pafy.new(video_page_url)\n",
      "  File \"/home/jsondotload/projects/research/marl/sonyc/audiosetdl/bin/miniconda/lib/python3.6/site-packages/pafy/pafy.py\", line 122, in new\n",
      "    return Pafy(url, basic, gdata, size, callback, ydl_opts)\n",
      "  File \"/home/jsondotload/projects/research/marl/sonyc/audiosetdl/bin/miniconda/lib/python3.6/site-packages/pafy/backend_youtube_dl.py\", line 29, in __init__\n",
      "    super(YtdlPafy, self).__init__(*args, **kwargs)\n",
      "  File \"/home/jsondotload/projects/research/marl/sonyc/audiosetdl/bin/miniconda/lib/python3.6/site-packages/pafy/backend_shared.py\", line 96, in __init__\n",
      "    self._fetch_basic()\n",
      "  File \"/home/jsondotload/projects/research/marl/sonyc/audiosetdl/bin/miniconda/lib/python3.6/site-packages/pafy/backend_youtube_dl.py\", line 41, in _fetch_basic\n",
      "    raise IOError(str(e).replace('YouTube said', 'Youtube says'))\n",
      "OSError: ERROR: -0Vl4HyWRk8: Youtube says: \"Mata Ki Chow...\"\n",
      "The YouTube account associated with this video has been terminated due to multiple third-party notifications of copyright infringement.\n",
      "\n",
      "2017-09-29 00:34:11,837 - audiosetdl - INFO - Attempting to download video -0mG4W5Hlq8 (270.0 - 280.0)\n",
      "2017-09-29 00:34:19,226 - audiosetdl - INFO - Downloaded video -0mG4W5Hlq8 (270.0 - 280.0)\n",
      "2017-09-29 00:34:19,234 - audiosetdl - INFO - Attempting to download video -0mjrMposBM (80.0 - 90.0)\n",
      "2017-09-29 00:34:19,883 - audiosetdl - INFO - Downloaded video --ekDLDTUXA (30.0 - 40.0)\n",
      "2017-09-29 00:34:19,901 - audiosetdl - INFO - Attempting to download video -11LhdJgBb8 (30.0 - 40.0)\n",
      "2017-09-29 00:34:21,826 - audiosetdl - INFO - Downloaded video -0O3e95y4gE (100.0 - 110.0)\n",
      "2017-09-29 00:34:21,832 - audiosetdl - INFO - Attempting to download video -1LrH01Ei1w (30.0 - 40.0)\n",
      "2017-09-29 00:34:27,657 - audiosetdl - INFO - Downloaded video -1LrH01Ei1w (30.0 - 40.0)\n",
      "2017-09-29 00:34:27,660 - audiosetdl - INFO - Attempting to download video -1TLtjPtnms (10.0 - 20.0)\n",
      "2017-09-29 00:34:32,146 - audiosetdl - INFO - Downloaded video -0SdAVK79lg (30.0 - 40.0)\n",
      "2017-09-29 00:34:32,151 - audiosetdl - INFO - Attempting to download video -1iKLvsRBbE (80.0 - 90.0)\n",
      "2017-09-29 00:34:32,979 - audiosetdl - INFO - Downloaded video -1TLtjPtnms (10.0 - 20.0)\n",
      "2017-09-29 00:34:32,991 - audiosetdl - INFO - Attempting to download video -24dqQM_rDk (30.0 - 40.0)\n",
      "2017-09-29 00:34:42,655 - audiosetdl - INFO - Downloaded video -24dqQM_rDk (30.0 - 40.0)\n",
      "2017-09-29 00:34:42,661 - audiosetdl - INFO - Attempting to download video -275_wTLm-4 (7.0 - 17.0)\n",
      "2017-09-29 00:34:44,792 - audiosetdl - INFO - Downloaded video -11LhdJgBb8 (30.0 - 40.0)\n",
      "2017-09-29 00:34:44,813 - audiosetdl - INFO - Attempting to download video -28U1_qW0sU (30.0 - 40.0)\n",
      "2017-09-29 00:34:51,203 - audiosetdl - INFO - Downloaded video -28U1_qW0sU (30.0 - 40.0)\n",
      "2017-09-29 00:34:51,230 - audiosetdl - INFO - Attempting to download video -2PDE7hUArE (30.0 - 40.0)\n",
      "2017-09-29 00:34:52,756 - audiosetdl - INFO - Downloaded video -0mjrMposBM (80.0 - 90.0)\n",
      "2017-09-29 00:34:52,762 - audiosetdl - INFO - Attempting to download video -2X03mO3T_U (30.0 - 40.0)\n"
     ]
    },
    {
     "name": "stderr",
     "output_type": "stream",
     "text": [
      "2017-09-29 00:34:54,289 - audiosetdl - INFO - Downloaded video -275_wTLm-4 (7.0 - 17.0)\n",
      "2017-09-29 00:34:54,297 - audiosetdl - INFO - Attempting to download video -2hQKCE-oTI (30.0 - 40.0)\n",
      "2017-09-29 00:35:02,033 - audiosetdl - INFO - Downloaded video -2PDE7hUArE (30.0 - 40.0)\n",
      "2017-09-29 00:35:02,039 - audiosetdl - INFO - Attempting to download video -30H9V1IKps (6.0 - 16.0)\n",
      "2017-09-29 00:35:02,552 - audiosetdl - INFO - Downloaded video -2X03mO3T_U (30.0 - 40.0)\n",
      "2017-09-29 00:35:02,559 - audiosetdl - INFO - Attempting to download video -38Qgsbh7NQ (100.0 - 110.0)\n",
      "2017-09-29 00:35:07,605 - audiosetdl - INFO - Downloaded video -2hQKCE-oTI (30.0 - 40.0)\n",
      "2017-09-29 00:35:07,617 - audiosetdl - INFO - Attempting to download video -3HYdaJyF4U (30.0 - 40.0)\n",
      "2017-09-29 00:35:08,286 - audiosetdl - INFO - Downloaded video -38Qgsbh7NQ (100.0 - 110.0)\n",
      "2017-09-29 00:35:08,300 - audiosetdl - INFO - Attempting to download video -3IGxVTJvgI (30.0 - 40.0)\n",
      "2017-09-29 00:35:08,759 - audiosetdl - INFO - Downloaded video -30H9V1IKps (6.0 - 16.0)\n",
      "2017-09-29 00:35:08,762 - audiosetdl - INFO - Attempting to download video -3IYpJfLVJk (30.0 - 40.0)\n",
      "2017-09-29 00:35:09,255 - audiosetdl - INFO - Downloaded video -1iKLvsRBbE (80.0 - 90.0)\n",
      "2017-09-29 00:35:09,258 - audiosetdl - INFO - Attempting to download video -3hKkjKmIGE (30.0 - 40.0)\n",
      "2017-09-29 00:35:16,307 - audiosetdl - INFO - Downloaded video -3IGxVTJvgI (30.0 - 40.0)\n",
      "2017-09-29 00:35:16,313 - audiosetdl - INFO - Attempting to download video -3pPrlCm6gg (30.0 - 40.0)\n",
      "2017-09-29 00:35:16,421 - audiosetdl - INFO - Downloaded video -3HYdaJyF4U (30.0 - 40.0)\n",
      "2017-09-29 00:35:16,430 - audiosetdl - INFO - Attempting to download video -4NLarMj4xU (30.0 - 40.0)\n",
      "2017-09-29 00:35:22,219 - audiosetdl - INFO - Downloaded video -3hKkjKmIGE (30.0 - 40.0)\n",
      "2017-09-29 00:35:22,222 - audiosetdl - INFO - Attempting to download video -4RWqM0UCCY (0.0 - 10.0)\n",
      "2017-09-29 00:35:23,329 - audiosetdl - INFO - Downloaded video -3pPrlCm6gg (30.0 - 40.0)\n",
      "2017-09-29 00:35:23,332 - audiosetdl - INFO - Attempting to download video -4hZyOdm7EI (200.0 - 210.0)\n",
      "2017-09-29 00:35:23,457 - audiosetdl - INFO - Downloaded video -3IYpJfLVJk (30.0 - 40.0)\n",
      "2017-09-29 00:35:23,462 - audiosetdl - INFO - Attempting to download video -4xJv59_zcA (30.0 - 40.0)\n",
      "2017-09-29 00:35:27,838 - audiosetdl - INFO - Downloaded video -4RWqM0UCCY (0.0 - 10.0)\n",
      "2017-09-29 00:35:27,865 - audiosetdl - INFO - Attempting to download video -5-vmt2iKT0 (30.0 - 40.0)\n",
      "2017-09-29 00:35:29,423 - audiosetdl - INFO - Downloaded video -4hZyOdm7EI (200.0 - 210.0)\n",
      "2017-09-29 00:35:29,426 - audiosetdl - INFO - Attempting to download video -5DdYkYOjy0 (30.0 - 40.0)\n",
      "2017-09-29 00:35:31,023 - audiosetdl - INFO - Downloaded video -4NLarMj4xU (30.0 - 40.0)\n",
      "2017-09-29 00:35:31,032 - audiosetdl - INFO - Attempting to download video -5GhUbDLYkQ (16.0 - 26.0)\n",
      "2017-09-29 00:35:35,812 - audiosetdl - INFO - Downloaded video -5DdYkYOjy0 (30.0 - 40.0)\n",
      "2017-09-29 00:35:35,829 - audiosetdl - INFO - Attempting to download video -5Jlimvsuwo (90.0 - 100.0)\n",
      "2017-09-29 00:35:37,145 - audiosetdl - INFO - Downloaded video -5-vmt2iKT0 (30.0 - 40.0)\n",
      "2017-09-29 00:35:37,152 - audiosetdl - INFO - Attempting to download video -5Kk-m7BmiE (21.0 - 31.0)\n",
      "2017-09-29 00:35:43,136 - audiosetdl - INFO - Downloaded video -5GhUbDLYkQ (16.0 - 26.0)\n",
      "2017-09-29 00:35:43,147 - audiosetdl - INFO - Attempting to download video -5S70zOSw30 (30.0 - 40.0)\n",
      "2017-09-29 00:36:05,992 - audiosetdl - INFO - Downloaded video -4xJv59_zcA (30.0 - 40.0)\n",
      "2017-09-29 00:36:06,000 - audiosetdl - INFO - Attempting to download video -5f6hjZf9Yw (30.0 - 40.0)\n",
      "2017-09-29 00:36:09,557 - audiosetdl - INFO - Downloaded video -5Kk-m7BmiE (21.0 - 31.0)\n",
      "2017-09-29 00:36:09,566 - audiosetdl - INFO - Attempting to download video -5xOcMJpTUk (70.0 - 80.0)\n",
      "2017-09-29 00:36:12,381 - audiosetdl - INFO - Downloaded video -5f6hjZf9Yw (30.0 - 40.0)\n",
      "2017-09-29 00:36:12,397 - audiosetdl - INFO - Attempting to download video -60XojQWWoc (30.0 - 40.0)\n",
      "2017-09-29 00:36:17,617 - audiosetdl - INFO - Downloaded video -5Jlimvsuwo (90.0 - 100.0)\n",
      "2017-09-29 00:36:17,624 - audiosetdl - INFO - Attempting to download video -64xnyOswXA (120.0 - 130.0)\n",
      "2017-09-29 00:36:18,554 - audiosetdl - INFO - Downloaded video -5xOcMJpTUk (70.0 - 80.0)\n",
      "2017-09-29 00:36:18,564 - audiosetdl - INFO - Attempting to download video -693sNKI3iM (30.0 - 40.0)\n",
      "2017-09-29 00:36:19,021 - audiosetdl - INFO - Downloaded video -5S70zOSw30 (30.0 - 40.0)\n",
      "2017-09-29 00:36:19,024 - audiosetdl - INFO - Attempting to download video -6QGvxvaTkI (280.0 - 290.0)\n",
      "2017-09-29 00:36:22,100 - audiosetdl - INFO - Downloaded video -60XojQWWoc (30.0 - 40.0)\n",
      "2017-09-29 00:36:22,109 - audiosetdl - INFO - Attempting to download video -6RN8skIHU4 (20.0 - 30.0)\n",
      "2017-09-29 00:36:24,653 - audiosetdl - INFO - Downloaded video -693sNKI3iM (30.0 - 40.0)\n",
      "2017-09-29 00:36:24,660 - audiosetdl - INFO - Attempting to download video -6fxJZ7CW00 (30.0 - 40.0)\n",
      "2017-09-29 00:36:27,546 - audiosetdl - INFO - Downloaded video -6QGvxvaTkI (280.0 - 290.0)\n",
      "2017-09-29 00:36:33,360 - audiosetdl - INFO - Downloaded video -64xnyOswXA (120.0 - 130.0)\n",
      "2017-09-29 00:36:34,590 - audiosetdl - INFO - Downloaded video -6RN8skIHU4 (20.0 - 30.0)\n",
      "2017-09-29 00:36:35,475 - audiosetdl - INFO - Downloaded video -6fxJZ7CW00 (30.0 - 40.0)\n",
      "2017-09-29 00:36:35,558 - audiosetdl - INFO - Finished download jobs for subset \"balanced_train_segments\"\n"
     ]
    }
   ],
   "source": [
    "# Look at videos _without_ audio\n",
    "t_start = time.time()\n",
    "download_subset_files(BALANCED_TRAIN_URL, data_dir, ffmpeg_path, 4, max_videos=50, video_with_audio=False)\n",
    "t_vwoa = time.time() - t_start"
   ]
  },
  {
   "cell_type": "code",
   "execution_count": 11,
   "metadata": {},
   "outputs": [
    {
     "name": "stdout",
     "output_type": "stream",
     "text": [
      ".mp4\n",
      "==========================\n",
      "Number of files:\t49\n",
      "Total size:\t\t60.75 MB\n",
      "Mean:\t\t\t1.24 MB\n",
      "Median:\t\t\t0.78 MB\n",
      "Std. Dev.:\t\t1.16 MB\n",
      "\n",
      "Estimated Size for 2.1MM Tracks:\t2.60 TB\n"
     ]
    },
    {
     "data": {
      "image/png": "[encoded data removed]",
      "text/plain": [
       "<matplotlib.figure.Figure at 0x7f25d1998390>"
      ]
     },
     "metadata": {},
     "output_type": "display_data"
    },
    {
     "name": "stdout",
     "output_type": "stream",
     "text": [
      ".flac\n",
      "==========================\n",
      "Number of files:\t49\n",
      "Total size:\t\t32.45 MB\n",
      "Mean:\t\t\t0.66 MB\n",
      "Median:\t\t\t0.62 MB\n",
      "Std. Dev.:\t\t0.28 MB\n",
      "\n",
      "Estimated Size for 2.1MM Tracks:\t1.39 TB\n"
     ]
    },
    {
     "data": {
      "image/png": "[encoded data removed]",
      "text/plain": [
       "<matplotlib.figure.Figure at 0x7f25d0033320>"
      ]
     },
     "metadata": {},
     "output_type": "display_data"
    },
    {
     "name": "stdout",
     "output_type": "stream",
     "text": [
      "Total processing time:\t213.69 sec\n",
      "Processing time per video:\t4.36 sec\n"
     ]
    }
   ],
   "source": [
    "examine_results(data_dir, ['.mp4', '.flac'], t_vwoa)"
   ]
  },
  {
   "cell_type": "code",
   "execution_count": 12,
   "metadata": {
    "collapsed": true
   },
   "outputs": [],
   "source": [
    "shutil.rmtree(data_dir)"
   ]
  },
  {
   "cell_type": "code",
   "execution_count": null,
   "metadata": {
    "collapsed": true
   },
   "outputs": [],
   "source": []
  }
 ],
 "metadata": {
  "kernelspec": {
   "display_name": "Python 3",
   "language": "python",
   "name": "python3"
  },
  "language_info": {
   "codemirror_mode": {
    "name": "ipython",
    "version": 3
   },
   "file_extension": ".py",
   "mimetype": "text/x-python",
   "name": "python",
   "nbconvert_exporter": "python",
   "pygments_lexer": "ipython3",
   "version": "3.6.1"
  }
 },
 "nbformat": 4,
 "nbformat_minor": 2
}
