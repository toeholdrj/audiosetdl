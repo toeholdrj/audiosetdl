{
 "cells": [
  {
   "cell_type": "code",
   "execution_count": 1,
   "metadata": {
    "collapsed": true
   },
   "outputs": [],
   "source": [
    "import sys\n",
    "sys.path.append('..')\n",
    "import os\n",
    "import shutil\n",
    "import time\n",
    "import numpy as np\n",
    "import random\n",
    "import matplotlib.pyplot as plt\n",
    "import multiprocessing_logging\n",
    "\n",
    "from download_audioset import download_random_subset_files, BALANCED_TRAIN_URL, init_console_logger"
   ]
  },
  {
   "cell_type": "code",
   "execution_count": 2,
   "metadata": {
    "collapsed": true
   },
   "outputs": [],
   "source": [
    "# Configurations\n",
    "data_dir = 'test'\n",
    "ffmpeg_path = '../bin/ffmpeg/ffmpeg'\n",
    "num_videos = 25\n",
    "random_seed = 192838475"
   ]
  },
  {
   "cell_type": "code",
   "execution_count": 3,
   "metadata": {
    "collapsed": true
   },
   "outputs": [],
   "source": [
    "init_console_logger(True)\n",
    "multiprocessing_logging.install_mp_handler()"
   ]
  },
  {
   "cell_type": "code",
   "execution_count": 4,
   "metadata": {
    "collapsed": true
   },
   "outputs": [],
   "source": [
    "def get_file_sizes(top, exts=None):\n",
    "    if exts is None:\n",
    "        exts = []\n",
    "\n",
    "    total_size = 0\n",
    "    \n",
    "    ext_sizes = {}\n",
    "    for idx, ext in enumerate(exts):\n",
    "        # Ensure extensions start with a period\n",
    "        if ext[0] != '.':\n",
    "            exts[idx] = '.' + ext\n",
    "        ext_sizes[ext] = []\n",
    "        \n",
    "    exts = set(exts)\n",
    "        \n",
    "    for root, dirs, files in os.walk(top):\n",
    "        for filename in files:\n",
    "            path = os.path.join(root, filename)\n",
    "            size = os.path.getsize(path)\n",
    "            total_size += size\n",
    "            \n",
    "            ext = os.path.splitext(filename)[-1]\n",
    "            if ext in exts:\n",
    "                ext_sizes[ext].append(size)\n",
    "    return total_size, ext_sizes"
   ]
  },
  {
   "cell_type": "code",
   "execution_count": 5,
   "metadata": {
    "collapsed": true
   },
   "outputs": [],
   "source": [
    "def examine_results(data_dir, exts, total_time):\n",
    "    total_size, ext_sizes = get_file_sizes(data_dir, exts)\n",
    "    for ext in exts:\n",
    "        sizes = np.array(ext_sizes[ext]) / 1000000 # Convert to MB (MEGABytes)\n",
    "        print(ext)\n",
    "        print(\"==========================\")\n",
    "        print(\"Number of files:\\t{}\".format(sizes.size))\n",
    "        print(\"Total size:\\t\\t{0:.2f} MB\".format(np.sum(sizes)))\n",
    "        mean = np.mean(sizes)\n",
    "        print(\"Mean:\\t\\t\\t{0:.2f} MB\".format(mean))\n",
    "        print(\"Median:\\t\\t\\t{0:.2f} MB\".format(np.median(sizes)))\n",
    "        print(\"Std. Dev.:\\t\\t{0:.2f} MB\".format(np.std(sizes)))\n",
    "        print(\"\")\n",
    "        print(\"Estimated Size for 2.1MM Tracks:\\t{0:.2f} TB\".format(2100000 * mean/1000000))\n",
    "        \n",
    "        plt.figure()\n",
    "        plt.hist(sizes)\n",
    "        plt.title('Distribution of {} file sizes'.format(ext))\n",
    "        plt.xlabel('File size (MB)')\n",
    "        plt.ylabel('Frequency')\n",
    "        plt.show()\n",
    "        \n",
    "    print(\"Total processing time:\\t{0:.2f} sec\".format(total_time))\n",
    "    print(\"Processing time per video:\\t{0:.2f} sec\".format(total_time / sizes.size))\n",
    "\n",
    "        "
   ]
  },
  {
   "cell_type": "markdown",
   "metadata": {},
   "source": [
    "# Examine the distribution of file sizes per file type when video file is best quality containing audio"
   ]
  },
  {
   "cell_type": "code",
   "execution_count": 6,
   "metadata": {},
   "outputs": [
    {
     "name": "stderr",
     "output_type": "stream",
     "text": [
      "2017-09-29 16:19:33,417 - audiosetdl - INFO - Downloading subset file for \"balanced_train_segments\"\n",
      "2017-09-29 16:19:33,738 - audiosetdl - INFO - Starting download jobs for random subset (of size 100) of subset \"balanced_train_segments\"\n",
      "2017-09-29 16:19:33,826 - audiosetdl - INFO - Attempting to download video zTL9KyTtn64 (30.0 - 40.0)\n",
      "2017-09-29 16:19:33,825 - audiosetdl - INFO - Reached maximum (100) for subset balanced_train_segments\n",
      "2017-09-29 16:19:33,828 - audiosetdl - INFO - Attempting to download video BQ1JuiTKfAQ (30.0 - 40.0)\n",
      "2017-09-29 16:19:33,836 - audiosetdl - INFO - Attempting to download video o8gUvhE-0kA (30.0 - 40.0)\n",
      "2017-09-29 16:19:33,828 - audiosetdl - INFO - Attempting to download video L-O0eEnvQt8 (20.0 - 30.0)\n",
      "2017-09-29 16:19:55,817 - audiosetdl - INFO - Downloaded video L-O0eEnvQt8 (20.0 - 30.0)\n",
      "2017-09-29 16:19:55,827 - audiosetdl - INFO - Attempting to download video UL7tkfWe9Bc (90.0 - 100.0)\n",
      "2017-09-29 16:20:00,021 - audiosetdl - INFO - Downloaded video UL7tkfWe9Bc (90.0 - 100.0)\n",
      "2017-09-29 16:20:00,043 - audiosetdl - INFO - Attempting to download video GxswzkEU03c (30.0 - 40.0)\n",
      "2017-09-29 16:20:07,742 - audiosetdl - INFO - Downloaded video zTL9KyTtn64 (30.0 - 40.0)\n",
      "2017-09-29 16:20:07,756 - audiosetdl - INFO - Attempting to download video ZK5M3DZejzk (30.0 - 40.0)\n",
      "2017-09-29 16:20:07,853 - audiosetdl - INFO - Downloaded video GxswzkEU03c (30.0 - 40.0)\n",
      "2017-09-29 16:20:07,867 - audiosetdl - INFO - Attempting to download video BFti0v_mGeM (390.0 - 400.0)\n",
      "2017-09-29 16:20:08,671 - audiosetdl - INFO - Downloaded video o8gUvhE-0kA (30.0 - 40.0)\n",
      "2017-09-29 16:20:08,673 - audiosetdl - INFO - Attempting to download video E6cHQmSGeqM (30.0 - 40.0)\n",
      "2017-09-29 16:20:19,278 - audiosetdl - INFO - Downloaded video BFti0v_mGeM (390.0 - 400.0)\n",
      "2017-09-29 16:20:19,286 - audiosetdl - INFO - Attempting to download video DJldj5kHTbo (30.0 - 40.0)\n",
      "2017-09-29 16:20:19,510 - audiosetdl - INFO - Downloaded video E6cHQmSGeqM (30.0 - 40.0)\n",
      "2017-09-29 16:20:19,524 - audiosetdl - INFO - Attempting to download video Tz4APOJpZr4 (30.0 - 40.0)\n",
      "ERROR: DJldj5kHTbo: YouTube said: This video does not exist.\n",
      "2017-09-29 16:20:20,218 - audiosetdl - ERROR - Error while processing video DJldj5kHTbo: ERROR: DJldj5kHTbo: Youtube says: This video does not exist.; Traceback (most recent call last):\n",
      "  File \"/home/jsondotload/projects/research/marl/sonyc/audiosetdl/bin/miniconda/lib/python3.6/site-packages/youtube_dl/YoutubeDL.py\", line 776, in extract_info\n",
      "    ie_result = ie.extract(url)\n",
      "  File \"/home/jsondotload/projects/research/marl/sonyc/audiosetdl/bin/miniconda/lib/python3.6/site-packages/youtube_dl/extractor/common.py\", line 434, in extract\n",
      "    ie_result = self._real_extract(url)\n",
      "  File \"/home/jsondotload/projects/research/marl/sonyc/audiosetdl/bin/miniconda/lib/python3.6/site-packages/youtube_dl/extractor/youtube.py\", line 1608, in _real_extract\n",
      "    expected=True, video_id=video_id)\n",
      "youtube_dl.utils.ExtractorError: DJldj5kHTbo: YouTube said: This video does not exist.\n",
      "\n",
      "During handling of the above exception, another exception occurred:\n",
      "\n",
      "Traceback (most recent call last):\n",
      "  File \"/home/jsondotload/projects/research/marl/sonyc/audiosetdl/bin/miniconda/lib/python3.6/site-packages/pafy/backend_youtube_dl.py\", line 38, in _fetch_basic\n",
      "    self._ydl_info = ydl.extract_info(self.videoid, download=False)\n",
      "  File \"/home/jsondotload/projects/research/marl/sonyc/audiosetdl/bin/miniconda/lib/python3.6/site-packages/youtube_dl/YoutubeDL.py\", line 799, in extract_info\n",
      "    self.report_error(compat_str(e), e.format_traceback())\n",
      "  File \"/home/jsondotload/projects/research/marl/sonyc/audiosetdl/bin/miniconda/lib/python3.6/site-packages/youtube_dl/YoutubeDL.py\", line 604, in report_error\n",
      "    self.trouble(error_message, tb)\n",
      "  File \"/home/jsondotload/projects/research/marl/sonyc/audiosetdl/bin/miniconda/lib/python3.6/site-packages/youtube_dl/YoutubeDL.py\", line 574, in trouble\n",
      "    raise DownloadError(message, exc_info)\n",
      "youtube_dl.utils.DownloadError: ERROR: DJldj5kHTbo: YouTube said: This video does not exist.\n",
      "\n",
      "During handling of the above exception, another exception occurred:\n",
      "\n",
      "Traceback (most recent call last):\n",
      "  File \"../download_audioset.py\", line 354, in segment_mp_worker\n",
      "    download_yt_video(ytid, ts_start, ts_end, data_dir, ffmpeg_path, **ffmpeg_cfg)\n",
      "  File \"../download_audioset.py\", line 285, in download_yt_video\n",
      "    video = pafy.new(video_page_url)\n",
      "  File \"/home/jsondotload/projects/research/marl/sonyc/audiosetdl/bin/miniconda/lib/python3.6/site-packages/pafy/pafy.py\", line 122, in new\n",
      "    return Pafy(url, basic, gdata, size, callback, ydl_opts)\n",
      "  File \"/home/jsondotload/projects/research/marl/sonyc/audiosetdl/bin/miniconda/lib/python3.6/site-packages/pafy/backend_youtube_dl.py\", line 29, in __init__\n",
      "    super(YtdlPafy, self).__init__(*args, **kwargs)\n",
      "  File \"/home/jsondotload/projects/research/marl/sonyc/audiosetdl/bin/miniconda/lib/python3.6/site-packages/pafy/backend_shared.py\", line 96, in __init__\n",
      "    self._fetch_basic()\n",
      "  File \"/home/jsondotload/projects/research/marl/sonyc/audiosetdl/bin/miniconda/lib/python3.6/site-packages/pafy/backend_youtube_dl.py\", line 41, in _fetch_basic\n",
      "    raise IOError(str(e).replace('YouTube said', 'Youtube says'))\n",
      "OSError: ERROR: DJldj5kHTbo: Youtube says: This video does not exist.\n",
      "\n",
      "2017-09-29 16:20:20,248 - audiosetdl - INFO - Attempting to download video RT2Ict0Orvo (70.0 - 80.0)\n",
      "2017-09-29 16:20:26,674 - audiosetdl - INFO - Downloaded video ZK5M3DZejzk (30.0 - 40.0)\n",
      "2017-09-29 16:20:26,681 - audiosetdl - INFO - Attempting to download video hq4bYuTei4U (30.0 - 40.0)\n",
      "2017-09-29 16:20:28,254 - audiosetdl - INFO - Downloaded video Tz4APOJpZr4 (30.0 - 40.0)\n",
      "2017-09-29 16:20:28,294 - audiosetdl - INFO - Attempting to download video Kzta4DN8joI (30.0 - 40.0)\n",
      "2017-09-29 16:20:30,136 - audiosetdl - INFO - Downloaded video BQ1JuiTKfAQ (30.0 - 40.0)\n",
      "2017-09-29 16:20:30,166 - audiosetdl - INFO - Attempting to download video 4uGREQKFsK0 (90.0 - 100.0)\n",
      "2017-09-29 16:20:36,371 - audiosetdl - INFO - Downloaded video RT2Ict0Orvo (70.0 - 80.0)\n",
      "2017-09-29 16:20:36,376 - audiosetdl - INFO - Attempting to download video VRzOVaHeZ0A (30.0 - 40.0)\n",
      "2017-09-29 16:20:36,841 - audiosetdl - INFO - Downloaded video 4uGREQKFsK0 (90.0 - 100.0)\n",
      "2017-09-29 16:20:36,852 - audiosetdl - INFO - Attempting to download video DjALQt_oIcg (4.0 - 14.0)\n",
      "2017-09-29 16:20:43,449 - audiosetdl - INFO - Downloaded video VRzOVaHeZ0A (30.0 - 40.0)\n",
      "2017-09-29 16:20:43,451 - audiosetdl - INFO - Attempting to download video 1JqNiV03kog (30.0 - 40.0)\n",
      "2017-09-29 16:20:47,805 - audiosetdl - INFO - Downloaded video DjALQt_oIcg (4.0 - 14.0)\n",
      "2017-09-29 16:20:47,813 - audiosetdl - INFO - Attempting to download video DvhvrR1Bwoc (30.0 - 40.0)\n",
      "2017-09-29 16:20:50,267 - audiosetdl - INFO - Downloaded video Kzta4DN8joI (30.0 - 40.0)\n",
      "2017-09-29 16:20:50,273 - audiosetdl - INFO - Attempting to download video v7doS4KQ13U (30.0 - 40.0)\n",
      "2017-09-29 16:20:57,812 - audiosetdl - INFO - Downloaded video hq4bYuTei4U (30.0 - 40.0)\n",
      "2017-09-29 16:20:57,820 - audiosetdl - INFO - Attempting to download video Uxn7gW2eEFo (30.0 - 40.0)\n",
      "2017-09-29 16:21:17,289 - audiosetdl - INFO - Downloaded video 1JqNiV03kog (30.0 - 40.0)\n",
      "2017-09-29 16:21:17,293 - audiosetdl - INFO - Attempting to download video W_zgEkvp4xU (140.0 - 150.0)\n",
      "2017-09-29 16:21:18,453 - audiosetdl - INFO - Downloaded video DvhvrR1Bwoc (30.0 - 40.0)\n",
      "2017-09-29 16:21:18,462 - audiosetdl - INFO - Attempting to download video mYuaLETWuHo (10.0 - 20.0)\n",
      "2017-09-29 16:21:19,433 - audiosetdl - INFO - Downloaded video W_zgEkvp4xU (140.0 - 150.0)\n",
      "2017-09-29 16:21:19,444 - audiosetdl - INFO - Attempting to download video 68C8YlnegOM (30.0 - 40.0)\n",
      "2017-09-29 16:21:26,810 - audiosetdl - INFO - Downloaded video Uxn7gW2eEFo (30.0 - 40.0)\n",
      "2017-09-29 16:21:26,815 - audiosetdl - INFO - Attempting to download video Adwe0AR0tRw (30.0 - 40.0)\n",
      "2017-09-29 16:21:31,285 - audiosetdl - INFO - Downloaded video 68C8YlnegOM (30.0 - 40.0)\n",
      "2017-09-29 16:21:31,293 - audiosetdl - INFO - Attempting to download video UwSlBIGuHlo (20.0 - 30.0)\n",
      "2017-09-29 16:21:36,081 - audiosetdl - INFO - Downloaded video Adwe0AR0tRw (30.0 - 40.0)\n",
      "2017-09-29 16:21:36,088 - audiosetdl - INFO - Attempting to download video sphN-VDal2g (10.0 - 20.0)\n"
     ]
    },
    {
     "name": "stderr",
     "output_type": "stream",
     "text": [
      "2017-09-29 16:21:36,468 - audiosetdl - INFO - Downloaded video mYuaLETWuHo (10.0 - 20.0)\n",
      "2017-09-29 16:21:36,476 - audiosetdl - INFO - Attempting to download video dgi9F2qT5KA (180.0 - 190.0)\n",
      "2017-09-29 16:21:42,056 - audiosetdl - INFO - Downloaded video dgi9F2qT5KA (180.0 - 190.0)\n",
      "2017-09-29 16:21:42,058 - audiosetdl - INFO - Attempting to download video cex_imP_XFs (10.0 - 20.0)\n",
      "2017-09-29 16:21:50,402 - audiosetdl - INFO - Downloaded video cex_imP_XFs (10.0 - 20.0)\n",
      "2017-09-29 16:21:50,408 - audiosetdl - INFO - Attempting to download video JO_G1plPrao (40.0 - 50.0)\n",
      "2017-09-29 16:21:51,719 - audiosetdl - INFO - Downloaded video sphN-VDal2g (10.0 - 20.0)\n",
      "2017-09-29 16:21:51,733 - audiosetdl - INFO - Attempting to download video n2g-33m8YRw (30.0 - 40.0)\n",
      "2017-09-29 16:22:05,654 - audiosetdl - INFO - Downloaded video JO_G1plPrao (40.0 - 50.0)\n",
      "2017-09-29 16:22:05,665 - audiosetdl - INFO - Attempting to download video 68HVZzEravA (30.0 - 40.0)\n",
      "2017-09-29 16:22:06,825 - audiosetdl - INFO - Downloaded video v7doS4KQ13U (30.0 - 40.0)\n",
      "2017-09-29 16:22:06,843 - audiosetdl - INFO - Attempting to download video 8oa7QzW-IBc (90.0 - 100.0)\n",
      "2017-09-29 16:22:11,694 - audiosetdl - INFO - Downloaded video UwSlBIGuHlo (20.0 - 30.0)\n",
      "2017-09-29 16:22:11,703 - audiosetdl - INFO - Attempting to download video NZ2kFIaW05k (450.0 - 460.0)\n",
      "2017-09-29 16:22:22,085 - audiosetdl - INFO - Downloaded video 8oa7QzW-IBc (90.0 - 100.0)\n",
      "2017-09-29 16:22:22,093 - audiosetdl - INFO - Attempting to download video ucJC2w8dLg4 (10.0 - 20.0)\n",
      "2017-09-29 16:22:37,038 - audiosetdl - INFO - Downloaded video NZ2kFIaW05k (450.0 - 460.0)\n",
      "2017-09-29 16:22:37,046 - audiosetdl - INFO - Attempting to download video 6lPw0wKu7_M (180.0 - 190.0)\n",
      "2017-09-29 16:22:37,684 - audiosetdl - INFO - Downloaded video ucJC2w8dLg4 (10.0 - 20.0)\n",
      "2017-09-29 16:22:37,687 - audiosetdl - INFO - Attempting to download video BIaloqYG5DA (30.0 - 40.0)\n",
      "2017-09-29 16:22:41,106 - audiosetdl - INFO - Downloaded video n2g-33m8YRw (30.0 - 40.0)\n",
      "2017-09-29 16:22:41,118 - audiosetdl - INFO - Attempting to download video cBLs2YQ0sY0 (190.0 - 200.0)\n",
      "2017-09-29 16:22:41,146 - audiosetdl - INFO - Downloaded video 6lPw0wKu7_M (180.0 - 190.0)\n",
      "2017-09-29 16:22:41,154 - audiosetdl - INFO - Attempting to download video I3zwXIKToXc (20.0 - 30.0)\n",
      "2017-09-29 16:22:44,225 - audiosetdl - INFO - Downloaded video cBLs2YQ0sY0 (190.0 - 200.0)\n",
      "2017-09-29 16:22:44,232 - audiosetdl - INFO - Attempting to download video HKy0NSF4oRQ (30.0 - 40.0)\n",
      "2017-09-29 16:22:51,249 - audiosetdl - INFO - Downloaded video BIaloqYG5DA (30.0 - 40.0)\n",
      "2017-09-29 16:22:51,256 - audiosetdl - INFO - Attempting to download video iaWAlnr4dU8 (140.0 - 150.0)\n",
      "2017-09-29 16:22:52,043 - audiosetdl - ERROR - Error while processing video iaWAlnr4dU8: 'NoneType' object has no attribute 'url'; Traceback (most recent call last):\n",
      "  File \"../download_audioset.py\", line 354, in segment_mp_worker\n",
      "    download_yt_video(ytid, ts_start, ts_end, data_dir, ffmpeg_path, **ffmpeg_cfg)\n",
      "  File \"../download_audioset.py\", line 290, in download_yt_video\n",
      "    best_video_url = best_video.url\n",
      "AttributeError: 'NoneType' object has no attribute 'url'\n",
      "\n",
      "2017-09-29 16:22:52,069 - audiosetdl - INFO - Attempting to download video zLv0wo9n1Ts (20.0 - 30.0)\n",
      "2017-09-29 16:22:53,923 - audiosetdl - INFO - Downloaded video I3zwXIKToXc (20.0 - 30.0)\n",
      "2017-09-29 16:22:53,931 - audiosetdl - INFO - Attempting to download video lnrNzyDHTe8 (170.0 - 180.0)\n",
      "2017-09-29 16:22:56,282 - audiosetdl - INFO - Downloaded video HKy0NSF4oRQ (30.0 - 40.0)\n",
      "2017-09-29 16:22:56,297 - audiosetdl - INFO - Attempting to download video 0fFIg5WLnm0 (30.0 - 40.0)\n",
      "2017-09-29 16:23:02,922 - audiosetdl - INFO - Downloaded video zLv0wo9n1Ts (20.0 - 30.0)\n",
      "2017-09-29 16:23:02,925 - audiosetdl - INFO - Attempting to download video rVQega7wLSk (200.0 - 210.0)\n",
      "2017-09-29 16:23:07,486 - audiosetdl - INFO - Downloaded video 0fFIg5WLnm0 (30.0 - 40.0)\n",
      "2017-09-29 16:23:07,493 - audiosetdl - INFO - Attempting to download video 8Q3pHpuxZRg (460.0 - 470.0)\n",
      "2017-09-29 16:23:09,154 - audiosetdl - INFO - Downloaded video lnrNzyDHTe8 (170.0 - 180.0)\n",
      "2017-09-29 16:23:09,169 - audiosetdl - INFO - Attempting to download video TXKODIvIqGI (320.0 - 330.0)\n",
      "2017-09-29 16:23:20,281 - audiosetdl - INFO - Downloaded video rVQega7wLSk (200.0 - 210.0)\n",
      "2017-09-29 16:23:20,313 - audiosetdl - INFO - Attempting to download video 2W6YgQeEr8U (0.0 - 10.0)\n",
      "2017-09-29 16:23:24,533 - audiosetdl - INFO - Downloaded video 2W6YgQeEr8U (0.0 - 10.0)\n",
      "2017-09-29 16:23:24,540 - audiosetdl - INFO - Attempting to download video CnLzWqG3tEk (30.0 - 40.0)\n",
      "2017-09-29 16:23:25,690 - audiosetdl - INFO - Downloaded video 68HVZzEravA (30.0 - 40.0)\n",
      "2017-09-29 16:23:25,700 - audiosetdl - INFO - Attempting to download video 8z-7VW_4-zM (300.0 - 310.0)\n",
      "2017-09-29 16:23:27,330 - audiosetdl - INFO - Downloaded video 8Q3pHpuxZRg (460.0 - 470.0)\n",
      "2017-09-29 16:23:27,341 - audiosetdl - INFO - Attempting to download video h1H_GaajDak (30.0 - 40.0)\n",
      "2017-09-29 16:23:34,155 - audiosetdl - INFO - Downloaded video CnLzWqG3tEk (30.0 - 40.0)\n",
      "2017-09-29 16:23:34,185 - audiosetdl - INFO - Attempting to download video -28U1_qW0sU (30.0 - 40.0)\n",
      "2017-09-29 16:23:41,578 - audiosetdl - INFO - Downloaded video 8z-7VW_4-zM (300.0 - 310.0)\n",
      "2017-09-29 16:23:41,582 - audiosetdl - INFO - Attempting to download video Xu0J2UiyinY (580.0 - 590.0)\n",
      "2017-09-29 16:23:42,177 - audiosetdl - INFO - Downloaded video -28U1_qW0sU (30.0 - 40.0)\n",
      "2017-09-29 16:23:42,187 - audiosetdl - INFO - Attempting to download video oBwt8T8P8Zs (380.0 - 390.0)\n",
      "2017-09-29 16:23:46,610 - audiosetdl - INFO - Downloaded video Xu0J2UiyinY (580.0 - 590.0)\n",
      "2017-09-29 16:23:46,617 - audiosetdl - INFO - Attempting to download video JCAJJfRUH94 (120.0 - 130.0)\n",
      "2017-09-29 16:23:47,623 - audiosetdl - INFO - Downloaded video h1H_GaajDak (30.0 - 40.0)\n",
      "2017-09-29 16:23:47,632 - audiosetdl - INFO - Attempting to download video BzQzsbns0wk (30.0 - 40.0)\n",
      "2017-09-29 16:24:02,554 - audiosetdl - INFO - Downloaded video oBwt8T8P8Zs (380.0 - 390.0)\n",
      "2017-09-29 16:24:02,561 - audiosetdl - INFO - Attempting to download video R0AJ_4W0f8k (0.0 - 10.0)\n",
      "2017-09-29 16:24:05,600 - audiosetdl - INFO - Downloaded video R0AJ_4W0f8k (0.0 - 10.0)\n",
      "2017-09-29 16:24:05,613 - audiosetdl - INFO - Attempting to download video U2qaDIULgew (190.0 - 200.0)\n",
      "2017-09-29 16:24:11,269 - audiosetdl - INFO - Downloaded video U2qaDIULgew (190.0 - 200.0)\n",
      "2017-09-29 16:24:11,276 - audiosetdl - INFO - Attempting to download video T2AOK88EjT0 (270.0 - 280.0)\n",
      "2017-09-29 16:24:34,341 - audiosetdl - INFO - Downloaded video TXKODIvIqGI (320.0 - 330.0)\n",
      "2017-09-29 16:24:34,346 - audiosetdl - INFO - Attempting to download video rNxj6t7ocQc (160.0 - 170.0)\n",
      "2017-09-29 16:24:35,280 - audiosetdl - INFO - Downloaded video JCAJJfRUH94 (120.0 - 130.0)\n",
      "2017-09-29 16:24:35,285 - audiosetdl - INFO - Attempting to download video QvxNmz0GIOY (210.0 - 220.0)\n",
      "2017-09-29 16:25:06,634 - audiosetdl - INFO - Downloaded video T2AOK88EjT0 (270.0 - 280.0)\n",
      "2017-09-29 16:25:06,647 - audiosetdl - INFO - Attempting to download video 9EzV2FqY2y8 (110.0 - 120.0)\n",
      "2017-09-29 16:25:26,573 - audiosetdl - INFO - Downloaded video 9EzV2FqY2y8 (110.0 - 120.0)\n",
      "2017-09-29 16:25:26,584 - audiosetdl - INFO - Attempting to download video UrToRNte8cU (10.0 - 20.0)\n",
      "2017-09-29 16:25:34,069 - audiosetdl - INFO - Downloaded video UrToRNte8cU (10.0 - 20.0)\n",
      "2017-09-29 16:25:34,089 - audiosetdl - INFO - Attempting to download video 5fraQQFOyWQ (30.0 - 40.0)\n",
      "2017-09-29 16:25:52,811 - audiosetdl - INFO - Downloaded video QvxNmz0GIOY (210.0 - 220.0)\n",
      "2017-09-29 16:25:52,822 - audiosetdl - INFO - Attempting to download video eSIxvnEQ6R0 (420.0 - 430.0)\n",
      "2017-09-29 16:25:55,998 - audiosetdl - INFO - Downloaded video BzQzsbns0wk (30.0 - 40.0)\n",
      "2017-09-29 16:25:56,005 - audiosetdl - INFO - Attempting to download video fDBzeSQoTu8 (120.0 - 130.0)\n",
      "2017-09-29 16:25:57,699 - audiosetdl - INFO - Downloaded video eSIxvnEQ6R0 (420.0 - 430.0)\n",
      "2017-09-29 16:25:57,710 - audiosetdl - INFO - Attempting to download video ZO5Y6WWLwh8 (0.0 - 10.0)\n",
      "2017-09-29 16:26:03,493 - audiosetdl - INFO - Downloaded video ZO5Y6WWLwh8 (0.0 - 10.0)\n",
      "2017-09-29 16:26:03,509 - audiosetdl - INFO - Attempting to download video WhI_e7hH99w (120.0 - 130.0)\n"
     ]
    },
    {
     "name": "stderr",
     "output_type": "stream",
     "text": [
      "2017-09-29 16:26:09,373 - audiosetdl - INFO - Downloaded video 5fraQQFOyWQ (30.0 - 40.0)\n",
      "2017-09-29 16:26:09,377 - audiosetdl - INFO - Attempting to download video Ao9pQPwLNHA (30.0 - 40.0)\n",
      "2017-09-29 16:26:09,560 - audiosetdl - INFO - Downloaded video fDBzeSQoTu8 (120.0 - 130.0)\n",
      "2017-09-29 16:26:09,573 - audiosetdl - INFO - Attempting to download video OBJM1TqPvu4 (470.0 - 480.0)\n",
      "2017-09-29 16:26:11,807 - audiosetdl - INFO - Downloaded video WhI_e7hH99w (120.0 - 130.0)\n",
      "2017-09-29 16:26:11,820 - audiosetdl - INFO - Attempting to download video Yfr3NlwLenM (20.0 - 30.0)\n",
      "2017-09-29 16:26:13,561 - audiosetdl - INFO - Downloaded video Ao9pQPwLNHA (30.0 - 40.0)\n",
      "2017-09-29 16:26:13,570 - audiosetdl - INFO - Attempting to download video zTda7wonrBg (80.0 - 90.0)\n",
      "2017-09-29 16:26:16,323 - audiosetdl - INFO - Downloaded video rNxj6t7ocQc (160.0 - 170.0)\n",
      "2017-09-29 16:26:16,338 - audiosetdl - INFO - Attempting to download video wdNqMwBbv-k (11.0 - 21.0)\n",
      "2017-09-29 16:26:17,268 - audiosetdl - INFO - Downloaded video OBJM1TqPvu4 (470.0 - 480.0)\n",
      "2017-09-29 16:26:17,290 - audiosetdl - INFO - Attempting to download video zLQOrGihwSU (150.0 - 160.0)\n",
      "2017-09-29 16:26:20,609 - audiosetdl - INFO - Downloaded video Yfr3NlwLenM (20.0 - 30.0)\n",
      "2017-09-29 16:26:20,614 - audiosetdl - INFO - Attempting to download video 8HdKHSXAFYQ (120.0 - 130.0)\n",
      "2017-09-29 16:26:27,244 - audiosetdl - INFO - Downloaded video wdNqMwBbv-k (11.0 - 21.0)\n",
      "2017-09-29 16:26:27,253 - audiosetdl - INFO - Attempting to download video 5NqDdoLAUjE (30.0 - 40.0)\n",
      "2017-09-29 16:26:27,708 - audiosetdl - INFO - Downloaded video 8HdKHSXAFYQ (120.0 - 130.0)\n",
      "2017-09-29 16:26:27,711 - audiosetdl - INFO - Attempting to download video PFtcnQqLdEc (270.0 - 280.0)\n",
      "2017-09-29 16:26:28,533 - audiosetdl - INFO - Downloaded video zLQOrGihwSU (150.0 - 160.0)\n",
      "2017-09-29 16:26:28,538 - audiosetdl - INFO - Attempting to download video gPNBdfJ3LlU (40.0 - 50.0)\n",
      "2017-09-29 16:26:30,144 - audiosetdl - ERROR - Error while downloading video gPNBdfJ3LlU: Got non-zero exit code (1) from command \"../bin/ffmpeg/ffmpeg\": http://r1---sn-a8au-xfge.googlevideo.com/videoplayback/id/80f34175f2772e55/itag/135/source/yt_otf/pl/17/mn/sn-a8au-xfge/mm/31/mv/m/ei/dKzOWY2DPOGe8gTV9a6oAQ/initcwndbps/5313750/ms/au/ratebypass/yes/mime/video%2Fmp4/otfp/1/otf/1/lmt/1481128428742020/signature/8AA5A456D13289141679BD918F1481859A348D46.31F20669EFD2BDA7EC0112B43B9BCD7DD63C4864/mt/1506716620/key/dg_yt0/ip/216.165.95.165/ipbits/0/expire/1506738389/sparams/ip,ipbits,expire,id,itag,source,pl,mn,mm,mv,ei,initcwndbps,ms,ratebypass,mime,otfp,otf,lmt/: Server returned 404 Not Found\n",
      "; Traceback (most recent call last):\n",
      "  File \"../download_audioset.py\", line 354, in segment_mp_worker\n",
      "    download_yt_video(ytid, ts_start, ts_end, data_dir, ffmpeg_path, **ffmpeg_cfg)\n",
      "  File \"../download_audioset.py\", line 304, in download_yt_video\n",
      "    input_args=video_input_args, output_args=video_output_args)\n",
      "  File \"../download_audioset.py\", line 219, in ffmpeg\n",
      "    raise e\n",
      "  File \"../download_audioset.py\", line 216, in ffmpeg\n",
      "    run_command(args)\n",
      "  File \"../download_audioset.py\", line 183, in run_command\n",
      "    raise SubprocessError(cmd, return_code, stdout.decode(), stderr.decode())\n",
      "download_audioset.SubprocessError: Got non-zero exit code (1) from command \"../bin/ffmpeg/ffmpeg\": http://r1---sn-a8au-xfge.googlevideo.com/videoplayback/id/80f34175f2772e55/itag/135/source/yt_otf/pl/17/mn/sn-a8au-xfge/mm/31/mv/m/ei/dKzOWY2DPOGe8gTV9a6oAQ/initcwndbps/5313750/ms/au/ratebypass/yes/mime/video%2Fmp4/otfp/1/otf/1/lmt/1481128428742020/signature/8AA5A456D13289141679BD918F1481859A348D46.31F20669EFD2BDA7EC0112B43B9BCD7DD63C4864/mt/1506716620/key/dg_yt0/ip/216.165.95.165/ipbits/0/expire/1506738389/sparams/ip,ipbits,expire,id,itag,source,pl,mn,mm,mv,ei,initcwndbps,ms,ratebypass,mime,otfp,otf,lmt/: Server returned 404 Not Found\n",
      "\n",
      "\n",
      "2017-09-29 16:26:30,169 - audiosetdl - INFO - Attempting to download video c_01NsuSCwI (0.0 - 10.0)\n",
      "2017-09-29 16:26:31,404 - audiosetdl - INFO - Downloaded video PFtcnQqLdEc (270.0 - 280.0)\n",
      "2017-09-29 16:26:31,409 - audiosetdl - INFO - Attempting to download video Ue8tRqk8Xlg (30.0 - 40.0)\n",
      "2017-09-29 16:26:35,431 - audiosetdl - INFO - Downloaded video Ue8tRqk8Xlg (30.0 - 40.0)\n",
      "2017-09-29 16:26:35,438 - audiosetdl - INFO - Attempting to download video and39TYJrEI (0.0 - 10.0)\n",
      "2017-09-29 16:26:39,168 - audiosetdl - INFO - Downloaded video c_01NsuSCwI (0.0 - 10.0)\n",
      "2017-09-29 16:26:39,186 - audiosetdl - INFO - Attempting to download video Pm_jOABycGA (30.0 - 40.0)\n",
      "2017-09-29 16:26:42,645 - audiosetdl - INFO - Downloaded video 5NqDdoLAUjE (30.0 - 40.0)\n",
      "2017-09-29 16:26:42,651 - audiosetdl - INFO - Attempting to download video VXnHav1KTos (230.0 - 240.0)\n",
      "2017-09-29 16:26:42,815 - audiosetdl - INFO - Downloaded video zTda7wonrBg (80.0 - 90.0)\n",
      "2017-09-29 16:26:42,824 - audiosetdl - INFO - Attempting to download video TehjTZRy48o (20.0 - 30.0)\n",
      "2017-09-29 16:26:56,770 - audiosetdl - INFO - Forcing exit.\n",
      "Process ForkPoolWorker-4:\n",
      "Process ForkPoolWorker-1:\n",
      "Traceback (most recent call last):\n",
      "Process ForkPoolWorker-3:\n",
      "Process ForkPoolWorker-2:\n",
      "Traceback (most recent call last):\n",
      "Traceback (most recent call last):\n",
      "Traceback (most recent call last):\n",
      "  File \"/home/jsondotload/projects/research/marl/sonyc/audiosetdl/bin/miniconda/lib/python3.6/multiprocessing/process.py\", line 249, in _bootstrap\n",
      "    self.run()\n",
      "  File \"/home/jsondotload/projects/research/marl/sonyc/audiosetdl/bin/miniconda/lib/python3.6/multiprocessing/process.py\", line 249, in _bootstrap\n",
      "    self.run()\n",
      "  File \"/home/jsondotload/projects/research/marl/sonyc/audiosetdl/bin/miniconda/lib/python3.6/multiprocessing/process.py\", line 93, in run\n",
      "    self._target(*self._args, **self._kwargs)\n",
      "  File \"/home/jsondotload/projects/research/marl/sonyc/audiosetdl/bin/miniconda/lib/python3.6/multiprocessing/pool.py\", line 119, in worker\n",
      "    result = (True, func(*args, **kwds))\n",
      "  File \"/home/jsondotload/projects/research/marl/sonyc/audiosetdl/bin/miniconda/lib/python3.6/multiprocessing/process.py\", line 93, in run\n",
      "    self._target(*self._args, **self._kwargs)\n",
      "  File \"/home/jsondotload/projects/research/marl/sonyc/audiosetdl/bin/miniconda/lib/python3.6/multiprocessing/pool.py\", line 119, in worker\n",
      "    result = (True, func(*args, **kwds))\n",
      "  File \"/home/jsondotload/projects/research/marl/sonyc/audiosetdl/bin/miniconda/lib/python3.6/multiprocessing/process.py\", line 249, in _bootstrap\n",
      "    self.run()\n",
      "  File \"/home/jsondotload/projects/research/marl/sonyc/audiosetdl/bin/miniconda/lib/python3.6/multiprocessing/process.py\", line 249, in _bootstrap\n",
      "    self.run()\n",
      "  File \"../download_audioset.py\", line 354, in segment_mp_worker\n",
      "    download_yt_video(ytid, ts_start, ts_end, data_dir, ffmpeg_path, **ffmpeg_cfg)\n",
      "  File \"/home/jsondotload/projects/research/marl/sonyc/audiosetdl/bin/miniconda/lib/python3.6/multiprocessing/process.py\", line 93, in run\n",
      "    self._target(*self._args, **self._kwargs)\n",
      "  File \"/home/jsondotload/projects/research/marl/sonyc/audiosetdl/bin/miniconda/lib/python3.6/multiprocessing/pool.py\", line 119, in worker\n",
      "    result = (True, func(*args, **kwds))\n",
      "  File \"/home/jsondotload/projects/research/marl/sonyc/audiosetdl/bin/miniconda/lib/python3.6/multiprocessing/process.py\", line 93, in run\n",
      "    self._target(*self._args, **self._kwargs)\n",
      "  File \"../download_audioset.py\", line 304, in download_yt_video\n",
      "    input_args=video_input_args, output_args=video_output_args)\n",
      "  File \"../download_audioset.py\", line 354, in segment_mp_worker\n",
      "    download_yt_video(ytid, ts_start, ts_end, data_dir, ffmpeg_path, **ffmpeg_cfg)\n",
      "  File \"../download_audioset.py\", line 304, in download_yt_video\n",
      "    input_args=video_input_args, output_args=video_output_args)\n",
      "  File \"../download_audioset.py\", line 216, in ffmpeg\n",
      "    run_command(args)\n",
      "  File \"../download_audioset.py\", line 354, in segment_mp_worker\n",
      "    download_yt_video(ytid, ts_start, ts_end, data_dir, ffmpeg_path, **ffmpeg_cfg)\n",
      "  File \"/home/jsondotload/projects/research/marl/sonyc/audiosetdl/bin/miniconda/lib/python3.6/multiprocessing/pool.py\", line 119, in worker\n",
      "    result = (True, func(*args, **kwds))\n",
      "  File \"../download_audioset.py\", line 316, in download_yt_video\n",
      "    input_args=audio_input_args, output_args=audio_output_args)\n"
     ]
    },
    {
     "name": "stderr",
     "output_type": "stream",
     "text": [
      "  File \"../download_audioset.py\", line 304, in download_yt_video\n",
      "    input_args=video_input_args, output_args=video_output_args)\n",
      "  File \"../download_audioset.py\", line 354, in segment_mp_worker\n",
      "    download_yt_video(ytid, ts_start, ts_end, data_dir, ffmpeg_path, **ffmpeg_cfg)\n",
      "  File \"../download_audioset.py\", line 178, in run_command\n",
      "    stdout, stderr = proc.communicate()\n",
      "  File \"../download_audioset.py\", line 216, in ffmpeg\n",
      "    run_command(args)\n",
      "  File \"../download_audioset.py\", line 216, in ffmpeg\n",
      "    run_command(args)\n",
      "  File \"../download_audioset.py\", line 178, in run_command\n",
      "    stdout, stderr = proc.communicate()\n",
      "  File \"/home/jsondotload/projects/research/marl/sonyc/audiosetdl/bin/miniconda/lib/python3.6/subprocess.py\", line 836, in communicate\n",
      "    stdout, stderr = self._communicate(input, endtime, timeout)\n",
      "  File \"../download_audioset.py\", line 178, in run_command\n",
      "    stdout, stderr = proc.communicate()\n",
      "  File \"/home/jsondotload/projects/research/marl/sonyc/audiosetdl/bin/miniconda/lib/python3.6/subprocess.py\", line 836, in communicate\n",
      "    stdout, stderr = self._communicate(input, endtime, timeout)\n",
      "  File \"/home/jsondotload/projects/research/marl/sonyc/audiosetdl/bin/miniconda/lib/python3.6/subprocess.py\", line 836, in communicate\n",
      "    stdout, stderr = self._communicate(input, endtime, timeout)\n",
      "  File \"/home/jsondotload/projects/research/marl/sonyc/audiosetdl/bin/miniconda/lib/python3.6/subprocess.py\", line 1496, in _communicate\n",
      "    ready = selector.select(timeout)\n",
      "  File \"../download_audioset.py\", line 178, in run_command\n",
      "    stdout, stderr = proc.communicate()\n",
      "  File \"/home/jsondotload/projects/research/marl/sonyc/audiosetdl/bin/miniconda/lib/python3.6/subprocess.py\", line 1496, in _communicate\n",
      "    ready = selector.select(timeout)\n",
      "  File \"/home/jsondotload/projects/research/marl/sonyc/audiosetdl/bin/miniconda/lib/python3.6/selectors.py\", line 376, in select\n",
      "    fd_event_list = self._poll.poll(timeout)\n",
      "  File \"/home/jsondotload/projects/research/marl/sonyc/audiosetdl/bin/miniconda/lib/python3.6/selectors.py\", line 376, in select\n",
      "    fd_event_list = self._poll.poll(timeout)\n",
      "  File \"../download_audioset.py\", line 216, in ffmpeg\n",
      "    run_command(args)\n",
      "KeyboardInterrupt\n",
      "KeyboardInterrupt\n",
      "  File \"/home/jsondotload/projects/research/marl/sonyc/audiosetdl/bin/miniconda/lib/python3.6/subprocess.py\", line 1496, in _communicate\n",
      "    ready = selector.select(timeout)\n",
      "  File \"/home/jsondotload/projects/research/marl/sonyc/audiosetdl/bin/miniconda/lib/python3.6/selectors.py\", line 376, in select\n",
      "    fd_event_list = self._poll.poll(timeout)\n",
      "KeyboardInterrupt\n",
      "  File \"/home/jsondotload/projects/research/marl/sonyc/audiosetdl/bin/miniconda/lib/python3.6/subprocess.py\", line 836, in communicate\n",
      "    stdout, stderr = self._communicate(input, endtime, timeout)\n",
      "  File \"/home/jsondotload/projects/research/marl/sonyc/audiosetdl/bin/miniconda/lib/python3.6/subprocess.py\", line 1496, in _communicate\n",
      "    ready = selector.select(timeout)\n",
      "  File \"/home/jsondotload/projects/research/marl/sonyc/audiosetdl/bin/miniconda/lib/python3.6/selectors.py\", line 376, in select\n",
      "    fd_event_list = self._poll.poll(timeout)\n",
      "KeyboardInterrupt\n",
      "2017-09-29 16:26:56,991 - audiosetdl - INFO - Attempting to download video eX2coDMQWxs (160.0 - 170.0)\n",
      "2017-09-29 16:26:57,009 - audiosetdl - INFO - Attempting to download video WaLDwN9Lejs (90.0 - 100.0)\n",
      "2017-09-29 16:26:57,021 - audiosetdl - INFO - Attempting to download video VLowzUxlyyg (290.0 - 300.0)\n",
      "2017-09-29 16:26:57,027 - audiosetdl - INFO - Attempting to download video 2gkoNwdaBm8 (370.0 - 380.0)\n"
     ]
    },
    {
     "ename": "NameError",
     "evalue": "name 'exit' is not defined",
     "output_type": "error",
     "traceback": [
      "\u001b[0;31m---------------------------------------------------------------------------\u001b[0m",
      "\u001b[0;31mKeyboardInterrupt\u001b[0m                         Traceback (most recent call last)",
      "\u001b[0;32m~/projects/research/marl/sonyc/audiosetdl/download_audioset.py\u001b[0m in \u001b[0;36mdownload_random_subset_files\u001b[0;34m(subset_url, data_dir, ffmpeg_path, num_workers, max_videos, **ffmpeg_cfg)\u001b[0m\n\u001b[1;32m    454\u001b[0m             \u001b[0mpool\u001b[0m\u001b[0;34m.\u001b[0m\u001b[0mclose\u001b[0m\u001b[0;34m(\u001b[0m\u001b[0;34m)\u001b[0m\u001b[0;34m\u001b[0m\u001b[0m\n\u001b[0;32m--> 455\u001b[0;31m             \u001b[0mpool\u001b[0m\u001b[0;34m.\u001b[0m\u001b[0mjoin\u001b[0m\u001b[0;34m(\u001b[0m\u001b[0;34m)\u001b[0m\u001b[0;34m\u001b[0m\u001b[0m\n\u001b[0m\u001b[1;32m    456\u001b[0m         \u001b[0;32mexcept\u001b[0m \u001b[0mKeyboardInterrupt\u001b[0m\u001b[0;34m:\u001b[0m\u001b[0;34m\u001b[0m\u001b[0m\n",
      "\u001b[0;32m~/projects/research/marl/sonyc/audiosetdl/bin/miniconda/lib/python3.6/multiprocessing/pool.py\u001b[0m in \u001b[0;36mjoin\u001b[0;34m(self)\u001b[0m\n\u001b[1;32m    509\u001b[0m         \u001b[0;32massert\u001b[0m \u001b[0mself\u001b[0m\u001b[0;34m.\u001b[0m\u001b[0m_state\u001b[0m \u001b[0;32min\u001b[0m \u001b[0;34m(\u001b[0m\u001b[0mCLOSE\u001b[0m\u001b[0;34m,\u001b[0m \u001b[0mTERMINATE\u001b[0m\u001b[0;34m)\u001b[0m\u001b[0;34m\u001b[0m\u001b[0m\n\u001b[0;32m--> 510\u001b[0;31m         \u001b[0mself\u001b[0m\u001b[0;34m.\u001b[0m\u001b[0m_worker_handler\u001b[0m\u001b[0;34m.\u001b[0m\u001b[0mjoin\u001b[0m\u001b[0;34m(\u001b[0m\u001b[0;34m)\u001b[0m\u001b[0;34m\u001b[0m\u001b[0m\n\u001b[0m\u001b[1;32m    511\u001b[0m         \u001b[0mself\u001b[0m\u001b[0;34m.\u001b[0m\u001b[0m_task_handler\u001b[0m\u001b[0;34m.\u001b[0m\u001b[0mjoin\u001b[0m\u001b[0;34m(\u001b[0m\u001b[0;34m)\u001b[0m\u001b[0;34m\u001b[0m\u001b[0m\n",
      "\u001b[0;32m~/projects/research/marl/sonyc/audiosetdl/bin/miniconda/lib/python3.6/threading.py\u001b[0m in \u001b[0;36mjoin\u001b[0;34m(self, timeout)\u001b[0m\n\u001b[1;32m   1055\u001b[0m         \u001b[0;32mif\u001b[0m \u001b[0mtimeout\u001b[0m \u001b[0;32mis\u001b[0m \u001b[0;32mNone\u001b[0m\u001b[0;34m:\u001b[0m\u001b[0;34m\u001b[0m\u001b[0m\n\u001b[0;32m-> 1056\u001b[0;31m             \u001b[0mself\u001b[0m\u001b[0;34m.\u001b[0m\u001b[0m_wait_for_tstate_lock\u001b[0m\u001b[0;34m(\u001b[0m\u001b[0;34m)\u001b[0m\u001b[0;34m\u001b[0m\u001b[0m\n\u001b[0m\u001b[1;32m   1057\u001b[0m         \u001b[0;32melse\u001b[0m\u001b[0;34m:\u001b[0m\u001b[0;34m\u001b[0m\u001b[0m\n",
      "\u001b[0;32m~/projects/research/marl/sonyc/audiosetdl/bin/miniconda/lib/python3.6/threading.py\u001b[0m in \u001b[0;36m_wait_for_tstate_lock\u001b[0;34m(self, block, timeout)\u001b[0m\n\u001b[1;32m   1071\u001b[0m             \u001b[0;32massert\u001b[0m \u001b[0mself\u001b[0m\u001b[0;34m.\u001b[0m\u001b[0m_is_stopped\u001b[0m\u001b[0;34m\u001b[0m\u001b[0m\n\u001b[0;32m-> 1072\u001b[0;31m         \u001b[0;32melif\u001b[0m \u001b[0mlock\u001b[0m\u001b[0;34m.\u001b[0m\u001b[0macquire\u001b[0m\u001b[0;34m(\u001b[0m\u001b[0mblock\u001b[0m\u001b[0;34m,\u001b[0m \u001b[0mtimeout\u001b[0m\u001b[0;34m)\u001b[0m\u001b[0;34m:\u001b[0m\u001b[0;34m\u001b[0m\u001b[0m\n\u001b[0m\u001b[1;32m   1073\u001b[0m             \u001b[0mlock\u001b[0m\u001b[0;34m.\u001b[0m\u001b[0mrelease\u001b[0m\u001b[0;34m(\u001b[0m\u001b[0;34m)\u001b[0m\u001b[0;34m\u001b[0m\u001b[0m\n",
      "\u001b[0;31mKeyboardInterrupt\u001b[0m: ",
      "\nDuring handling of the above exception, another exception occurred:\n",
      "\u001b[0;31mNameError\u001b[0m                                 Traceback (most recent call last)",
      "\u001b[0;32m<ipython-input-6-4449c8826d09>\u001b[0m in \u001b[0;36m<module>\u001b[0;34m()\u001b[0m\n\u001b[1;32m      1\u001b[0m \u001b[0mrandom\u001b[0m\u001b[0;34m.\u001b[0m\u001b[0mseed\u001b[0m\u001b[0;34m(\u001b[0m\u001b[0mrandom_seed\u001b[0m\u001b[0;34m)\u001b[0m\u001b[0;34m\u001b[0m\u001b[0m\n\u001b[1;32m      2\u001b[0m \u001b[0mt_start\u001b[0m \u001b[0;34m=\u001b[0m \u001b[0mtime\u001b[0m\u001b[0;34m.\u001b[0m\u001b[0mtime\u001b[0m\u001b[0;34m(\u001b[0m\u001b[0;34m)\u001b[0m\u001b[0;34m\u001b[0m\u001b[0m\n\u001b[0;32m----> 3\u001b[0;31m \u001b[0mdownload_random_subset_files\u001b[0m\u001b[0;34m(\u001b[0m\u001b[0mBALANCED_TRAIN_URL\u001b[0m\u001b[0;34m,\u001b[0m \u001b[0mdata_dir\u001b[0m\u001b[0;34m,\u001b[0m \u001b[0mffmpeg_path\u001b[0m\u001b[0;34m,\u001b[0m \u001b[0;36m4\u001b[0m\u001b[0;34m,\u001b[0m \u001b[0mmax_videos\u001b[0m\u001b[0;34m=\u001b[0m\u001b[0;36m100\u001b[0m\u001b[0;34m)\u001b[0m\u001b[0;34m\u001b[0m\u001b[0m\n\u001b[0m\u001b[1;32m      4\u001b[0m \u001b[0mt_vwa\u001b[0m \u001b[0;34m=\u001b[0m \u001b[0mtime\u001b[0m\u001b[0;34m.\u001b[0m\u001b[0mtime\u001b[0m\u001b[0;34m(\u001b[0m\u001b[0;34m)\u001b[0m \u001b[0;34m-\u001b[0m \u001b[0mt_start\u001b[0m\u001b[0;34m\u001b[0m\u001b[0m\n",
      "\u001b[0;32m~/projects/research/marl/sonyc/audiosetdl/download_audioset.py\u001b[0m in \u001b[0;36mdownload_random_subset_files\u001b[0;34m(subset_url, data_dir, ffmpeg_path, num_workers, max_videos, **ffmpeg_cfg)\u001b[0m\n\u001b[1;32m    456\u001b[0m         \u001b[0;32mexcept\u001b[0m \u001b[0mKeyboardInterrupt\u001b[0m\u001b[0;34m:\u001b[0m\u001b[0;34m\u001b[0m\u001b[0m\n\u001b[1;32m    457\u001b[0m             \u001b[0mLOGGER\u001b[0m\u001b[0;34m.\u001b[0m\u001b[0minfo\u001b[0m\u001b[0;34m(\u001b[0m\u001b[0;34m\"Forcing exit.\"\u001b[0m\u001b[0;34m)\u001b[0m\u001b[0;34m\u001b[0m\u001b[0m\n\u001b[0;32m--> 458\u001b[0;31m             \u001b[0mexit\u001b[0m\u001b[0;34m(\u001b[0m\u001b[0;34m)\u001b[0m\u001b[0;34m\u001b[0m\u001b[0m\n\u001b[0m\u001b[1;32m    459\u001b[0m \u001b[0;34m\u001b[0m\u001b[0m\n\u001b[1;32m    460\u001b[0m     \u001b[0mLOGGER\u001b[0m\u001b[0;34m.\u001b[0m\u001b[0minfo\u001b[0m\u001b[0;34m(\u001b[0m\u001b[0;34m'Finished download jobs for subset \"{}\"'\u001b[0m\u001b[0;34m.\u001b[0m\u001b[0mformat\u001b[0m\u001b[0;34m(\u001b[0m\u001b[0msubset_name\u001b[0m\u001b[0;34m)\u001b[0m\u001b[0;34m)\u001b[0m\u001b[0;34m\u001b[0m\u001b[0m\n",
      "\u001b[0;31mNameError\u001b[0m: name 'exit' is not defined"
     ]
    }
   ],
   "source": [
    "random.seed(random_seed)\n",
    "t_start = time.time()\n",
    "download_random_subset_files(BALANCED_TRAIN_URL, data_dir, ffmpeg_path, 4, max_videos=100, video_mode='bestvideoaudio')\n",
    "t_vwa = time.time() - t_start"
   ]
  },
  {
   "cell_type": "code",
   "execution_count": 11,
   "metadata": {},
   "outputs": [
    {
     "name": "stdout",
     "output_type": "stream",
     "text": [
      ".mp4\n",
      "==========================\n",
      "Number of files:\t98\n",
      "Total size:\t\t124.36 MB\n",
      "Mean:\t\t\t1.27 MB\n",
      "Median:\t\t\t0.96 MB\n",
      "Std. Dev.:\t\t1.10 MB\n",
      "\n",
      "Estimated Size for 2.1MM Tracks:\t2.66 TB\n"
     ]
    },
    {
     "data": {
      "image/png": "[encoded data removed]",
      "text/plain": [
       "<matplotlib.figure.Figure at 0x7fa137eca940>"
      ]
     },
     "metadata": {},
     "output_type": "display_data"
    },
    {
     "name": "stdout",
     "output_type": "stream",
     "text": [
      ".flac\n",
      "==========================\n",
      "Number of files:\t98\n",
      "Total size:\t\t67.32 MB\n",
      "Mean:\t\t\t0.69 MB\n",
      "Median:\t\t\t0.66 MB\n",
      "Std. Dev.:\t\t0.30 MB\n",
      "\n",
      "Estimated Size for 2.1MM Tracks:\t1.44 TB\n"
     ]
    },
    {
     "data": {
      "image/png": "[encoded data removed]",
      "text/plain": [
       "<matplotlib.figure.Figure at 0x7fa137f6da58>"
      ]
     },
     "metadata": {},
     "output_type": "display_data"
    },
    {
     "name": "stdout",
     "output_type": "stream",
     "text": [
      "Total processing time:\t403.30 sec\n",
      "Processing time per video:\t4.12 sec\n"
     ]
    }
   ],
   "source": [
    "examine_results(data_dir, ['.mp4', '.flac'], t_vwa)"
   ]
  },
  {
   "cell_type": "code",
   "execution_count": 10,
   "metadata": {
    "collapsed": true
   },
   "outputs": [],
   "source": [
    "shutil.rmtree(data_dir)"
   ]
  },
  {
   "cell_type": "markdown",
   "metadata": {},
   "source": [
    "# Examine the distribution of file sizes per file type when audio is NOT included in the video files"
   ]
  },
  {
   "cell_type": "code",
   "execution_count": 11,
   "metadata": {},
   "outputs": [
    {
     "name": "stderr",
     "output_type": "stream",
     "text": [
      "2017-09-29 15:50:53,429 - audiosetdl - INFO - Downloading subset file for \"balanced_train_segments\"\n",
      "2017-09-29 15:50:53,642 - audiosetdl - INFO - Starting download jobs for random subset (of size 100) of subset \"balanced_train_segments\"\n",
      "2017-09-29 15:50:53,706 - audiosetdl - INFO - Reached maximum (100) for subset balanced_train_segments\n",
      "2017-09-29 15:50:53,707 - audiosetdl - INFO - Attempting to download video BQ1JuiTKfAQ (30.0 - 40.0)\n",
      "2017-09-29 15:50:53,707 - audiosetdl - INFO - Attempting to download video zTL9KyTtn64 (30.0 - 40.0)\n",
      "2017-09-29 15:50:53,710 - audiosetdl - INFO - Attempting to download video o8gUvhE-0kA (30.0 - 40.0)\n",
      "2017-09-29 15:50:53,709 - audiosetdl - INFO - Attempting to download video L-O0eEnvQt8 (20.0 - 30.0)\n",
      "2017-09-29 15:51:18,574 - audiosetdl - INFO - Downloaded video L-O0eEnvQt8 (20.0 - 30.0)\n",
      "2017-09-29 15:51:18,578 - audiosetdl - INFO - Attempting to download video UL7tkfWe9Bc (90.0 - 100.0)\n",
      "2017-09-29 15:51:21,916 - audiosetdl - INFO - Downloaded video UL7tkfWe9Bc (90.0 - 100.0)\n",
      "2017-09-29 15:51:21,923 - audiosetdl - INFO - Attempting to download video GxswzkEU03c (30.0 - 40.0)\n",
      "2017-09-29 15:51:25,369 - audiosetdl - INFO - Downloaded video zTL9KyTtn64 (30.0 - 40.0)\n",
      "2017-09-29 15:51:25,375 - audiosetdl - INFO - Attempting to download video ZK5M3DZejzk (30.0 - 40.0)\n",
      "2017-09-29 15:51:26,478 - audiosetdl - INFO - Downloaded video o8gUvhE-0kA (30.0 - 40.0)\n",
      "2017-09-29 15:51:26,481 - audiosetdl - INFO - Attempting to download video BFti0v_mGeM (390.0 - 400.0)\n",
      "2017-09-29 15:51:28,038 - audiosetdl - INFO - Downloaded video GxswzkEU03c (30.0 - 40.0)\n",
      "2017-09-29 15:51:28,043 - audiosetdl - INFO - Attempting to download video E6cHQmSGeqM (30.0 - 40.0)\n",
      "2017-09-29 15:51:38,394 - audiosetdl - INFO - Downloaded video BFti0v_mGeM (390.0 - 400.0)\n",
      "2017-09-29 15:51:38,402 - audiosetdl - INFO - Attempting to download video DJldj5kHTbo (30.0 - 40.0)\n",
      "ERROR: DJldj5kHTbo: YouTube said: This video does not exist.\n",
      "2017-09-29 15:51:39,379 - audiosetdl - ERROR - Error while processing video DJldj5kHTbo: ERROR: DJldj5kHTbo: Youtube says: This video does not exist.; Traceback (most recent call last):\n",
      "  File \"/home/jsondotload/projects/research/marl/sonyc/audiosetdl/bin/miniconda/lib/python3.6/site-packages/youtube_dl/YoutubeDL.py\", line 776, in extract_info\n",
      "    ie_result = ie.extract(url)\n",
      "  File \"/home/jsondotload/projects/research/marl/sonyc/audiosetdl/bin/miniconda/lib/python3.6/site-packages/youtube_dl/extractor/common.py\", line 434, in extract\n",
      "    ie_result = self._real_extract(url)\n",
      "  File \"/home/jsondotload/projects/research/marl/sonyc/audiosetdl/bin/miniconda/lib/python3.6/site-packages/youtube_dl/extractor/youtube.py\", line 1608, in _real_extract\n",
      "    expected=True, video_id=video_id)\n",
      "youtube_dl.utils.ExtractorError: DJldj5kHTbo: YouTube said: This video does not exist.\n",
      "\n",
      "During handling of the above exception, another exception occurred:\n",
      "\n",
      "Traceback (most recent call last):\n",
      "  File \"/home/jsondotload/projects/research/marl/sonyc/audiosetdl/bin/miniconda/lib/python3.6/site-packages/pafy/backend_youtube_dl.py\", line 38, in _fetch_basic\n",
      "    self._ydl_info = ydl.extract_info(self.videoid, download=False)\n",
      "  File \"/home/jsondotload/projects/research/marl/sonyc/audiosetdl/bin/miniconda/lib/python3.6/site-packages/youtube_dl/YoutubeDL.py\", line 799, in extract_info\n",
      "    self.report_error(compat_str(e), e.format_traceback())\n",
      "  File \"/home/jsondotload/projects/research/marl/sonyc/audiosetdl/bin/miniconda/lib/python3.6/site-packages/youtube_dl/YoutubeDL.py\", line 604, in report_error\n",
      "    self.trouble(error_message, tb)\n",
      "  File \"/home/jsondotload/projects/research/marl/sonyc/audiosetdl/bin/miniconda/lib/python3.6/site-packages/youtube_dl/YoutubeDL.py\", line 574, in trouble\n",
      "    raise DownloadError(message, exc_info)\n",
      "youtube_dl.utils.DownloadError: ERROR: DJldj5kHTbo: YouTube said: This video does not exist.\n",
      "\n",
      "During handling of the above exception, another exception occurred:\n",
      "\n",
      "Traceback (most recent call last):\n",
      "  File \"../download_audioset.py\", line 355, in segment_mp_worker\n",
      "    download_yt_video(ytid, ts_start, ts_end, data_dir, ffmpeg_path, **ffmpeg_cfg)\n",
      "  File \"../download_audioset.py\", line 285, in download_yt_video\n",
      "    video = pafy.new(video_page_url)\n",
      "  File \"/home/jsondotload/projects/research/marl/sonyc/audiosetdl/bin/miniconda/lib/python3.6/site-packages/pafy/pafy.py\", line 122, in new\n",
      "    return Pafy(url, basic, gdata, size, callback, ydl_opts)\n",
      "  File \"/home/jsondotload/projects/research/marl/sonyc/audiosetdl/bin/miniconda/lib/python3.6/site-packages/pafy/backend_youtube_dl.py\", line 29, in __init__\n",
      "    super(YtdlPafy, self).__init__(*args, **kwargs)\n",
      "  File \"/home/jsondotload/projects/research/marl/sonyc/audiosetdl/bin/miniconda/lib/python3.6/site-packages/pafy/backend_shared.py\", line 96, in __init__\n",
      "    self._fetch_basic()\n",
      "  File \"/home/jsondotload/projects/research/marl/sonyc/audiosetdl/bin/miniconda/lib/python3.6/site-packages/pafy/backend_youtube_dl.py\", line 41, in _fetch_basic\n",
      "    raise IOError(str(e).replace('YouTube said', 'Youtube says'))\n",
      "OSError: ERROR: DJldj5kHTbo: Youtube says: This video does not exist.\n",
      "\n",
      "2017-09-29 15:51:39,400 - audiosetdl - INFO - Attempting to download video Tz4APOJpZr4 (30.0 - 40.0)\n",
      "2017-09-29 15:51:39,541 - audiosetdl - INFO - Downloaded video E6cHQmSGeqM (30.0 - 40.0)\n",
      "2017-09-29 15:51:39,552 - audiosetdl - INFO - Attempting to download video RT2Ict0Orvo (70.0 - 80.0)\n",
      "2017-09-29 15:51:44,653 - audiosetdl - INFO - Downloaded video BQ1JuiTKfAQ (30.0 - 40.0)\n",
      "2017-09-29 15:51:44,678 - audiosetdl - INFO - Attempting to download video hq4bYuTei4U (30.0 - 40.0)\n",
      "2017-09-29 15:51:45,049 - audiosetdl - INFO - Downloaded video ZK5M3DZejzk (30.0 - 40.0)\n",
      "2017-09-29 15:51:45,057 - audiosetdl - INFO - Attempting to download video Kzta4DN8joI (30.0 - 40.0)\n",
      "2017-09-29 15:51:46,184 - audiosetdl - INFO - Downloaded video Tz4APOJpZr4 (30.0 - 40.0)\n",
      "2017-09-29 15:51:46,193 - audiosetdl - INFO - Attempting to download video 4uGREQKFsK0 (90.0 - 100.0)\n",
      "2017-09-29 15:51:48,599 - audiosetdl - INFO - Downloaded video RT2Ict0Orvo (70.0 - 80.0)\n",
      "2017-09-29 15:51:48,611 - audiosetdl - INFO - Attempting to download video VRzOVaHeZ0A (30.0 - 40.0)\n",
      "2017-09-29 15:51:50,625 - audiosetdl - INFO - Downloaded video 4uGREQKFsK0 (90.0 - 100.0)\n",
      "2017-09-29 15:51:50,627 - audiosetdl - INFO - Attempting to download video DjALQt_oIcg (4.0 - 14.0)\n",
      "2017-09-29 15:51:53,517 - audiosetdl - INFO - Downloaded video VRzOVaHeZ0A (30.0 - 40.0)\n",
      "2017-09-29 15:51:53,525 - audiosetdl - INFO - Attempting to download video 1JqNiV03kog (30.0 - 40.0)\n",
      "2017-09-29 15:51:58,506 - audiosetdl - INFO - Downloaded video DjALQt_oIcg (4.0 - 14.0)\n",
      "2017-09-29 15:51:58,522 - audiosetdl - INFO - Attempting to download video DvhvrR1Bwoc (30.0 - 40.0)\n",
      "2017-09-29 15:52:00,202 - audiosetdl - INFO - Downloaded video Kzta4DN8joI (30.0 - 40.0)\n",
      "2017-09-29 15:52:00,205 - audiosetdl - INFO - Attempting to download video v7doS4KQ13U (30.0 - 40.0)\n",
      "2017-09-29 15:52:05,097 - audiosetdl - INFO - Downloaded video hq4bYuTei4U (30.0 - 40.0)\n",
      "2017-09-29 15:52:05,108 - audiosetdl - INFO - Attempting to download video Uxn7gW2eEFo (30.0 - 40.0)\n",
      "2017-09-29 15:52:24,990 - audiosetdl - INFO - Downloaded video 1JqNiV03kog (30.0 - 40.0)\n",
      "2017-09-29 15:52:24,992 - audiosetdl - INFO - Attempting to download video W_zgEkvp4xU (140.0 - 150.0)\n",
      "2017-09-29 15:52:25,119 - audiosetdl - INFO - Downloaded video DvhvrR1Bwoc (30.0 - 40.0)\n",
      "2017-09-29 15:52:25,136 - audiosetdl - INFO - Attempting to download video mYuaLETWuHo (10.0 - 20.0)\n",
      "2017-09-29 15:52:26,991 - audiosetdl - INFO - Downloaded video W_zgEkvp4xU (140.0 - 150.0)\n",
      "2017-09-29 15:52:27,001 - audiosetdl - INFO - Attempting to download video 68C8YlnegOM (30.0 - 40.0)\n",
      "2017-09-29 15:52:32,662 - audiosetdl - INFO - Downloaded video Uxn7gW2eEFo (30.0 - 40.0)\n",
      "2017-09-29 15:52:32,686 - audiosetdl - INFO - Attempting to download video Adwe0AR0tRw (30.0 - 40.0)\n",
      "2017-09-29 15:52:40,262 - audiosetdl - INFO - Downloaded video 68C8YlnegOM (30.0 - 40.0)\n",
      "2017-09-29 15:52:40,278 - audiosetdl - INFO - Attempting to download video UwSlBIGuHlo (20.0 - 30.0)\n",
      "2017-09-29 15:52:43,249 - audiosetdl - INFO - Downloaded video Adwe0AR0tRw (30.0 - 40.0)\n",
      "2017-09-29 15:52:43,252 - audiosetdl - INFO - Attempting to download video sphN-VDal2g (10.0 - 20.0)\n"
     ]
    },
    {
     "name": "stderr",
     "output_type": "stream",
     "text": [
      "2017-09-29 15:52:43,931 - audiosetdl - INFO - Downloaded video mYuaLETWuHo (10.0 - 20.0)\n",
      "2017-09-29 15:52:43,937 - audiosetdl - INFO - Attempting to download video dgi9F2qT5KA (180.0 - 190.0)\n",
      "2017-09-29 15:52:50,360 - audiosetdl - INFO - Downloaded video dgi9F2qT5KA (180.0 - 190.0)\n",
      "2017-09-29 15:52:50,382 - audiosetdl - INFO - Attempting to download video cex_imP_XFs (10.0 - 20.0)\n",
      "2017-09-29 15:52:58,630 - audiosetdl - INFO - Downloaded video cex_imP_XFs (10.0 - 20.0)\n",
      "2017-09-29 15:52:58,636 - audiosetdl - INFO - Attempting to download video JO_G1plPrao (40.0 - 50.0)\n",
      "2017-09-29 15:53:00,555 - audiosetdl - INFO - Downloaded video sphN-VDal2g (10.0 - 20.0)\n",
      "2017-09-29 15:53:00,562 - audiosetdl - INFO - Attempting to download video n2g-33m8YRw (30.0 - 40.0)\n",
      "2017-09-29 15:53:14,143 - audiosetdl - INFO - Downloaded video JO_G1plPrao (40.0 - 50.0)\n",
      "2017-09-29 15:53:14,157 - audiosetdl - INFO - Attempting to download video 68HVZzEravA (30.0 - 40.0)\n",
      "2017-09-29 15:53:19,506 - audiosetdl - INFO - Downloaded video v7doS4KQ13U (30.0 - 40.0)\n",
      "2017-09-29 15:53:19,515 - audiosetdl - INFO - Attempting to download video 8oa7QzW-IBc (90.0 - 100.0)\n",
      "2017-09-29 15:53:20,597 - audiosetdl - INFO - Downloaded video UwSlBIGuHlo (20.0 - 30.0)\n",
      "2017-09-29 15:53:20,599 - audiosetdl - INFO - Attempting to download video NZ2kFIaW05k (450.0 - 460.0)\n",
      "2017-09-29 15:53:34,729 - audiosetdl - INFO - Downloaded video 8oa7QzW-IBc (90.0 - 100.0)\n",
      "2017-09-29 15:53:34,734 - audiosetdl - INFO - Attempting to download video ucJC2w8dLg4 (10.0 - 20.0)\n",
      "2017-09-29 15:53:47,835 - audiosetdl - INFO - Downloaded video NZ2kFIaW05k (450.0 - 460.0)\n",
      "2017-09-29 15:53:47,849 - audiosetdl - INFO - Attempting to download video 6lPw0wKu7_M (180.0 - 190.0)\n",
      "2017-09-29 15:53:50,895 - audiosetdl - INFO - Downloaded video n2g-33m8YRw (30.0 - 40.0)\n",
      "2017-09-29 15:53:50,903 - audiosetdl - INFO - Attempting to download video BIaloqYG5DA (30.0 - 40.0)\n",
      "2017-09-29 15:53:51,645 - audiosetdl - INFO - Downloaded video ucJC2w8dLg4 (10.0 - 20.0)\n",
      "2017-09-29 15:53:51,651 - audiosetdl - INFO - Attempting to download video cBLs2YQ0sY0 (190.0 - 200.0)\n",
      "2017-09-29 15:53:52,146 - audiosetdl - INFO - Downloaded video 6lPw0wKu7_M (180.0 - 190.0)\n",
      "2017-09-29 15:53:52,160 - audiosetdl - INFO - Attempting to download video I3zwXIKToXc (20.0 - 30.0)\n",
      "2017-09-29 15:53:54,873 - audiosetdl - INFO - Downloaded video cBLs2YQ0sY0 (190.0 - 200.0)\n",
      "2017-09-29 15:53:54,883 - audiosetdl - INFO - Attempting to download video HKy0NSF4oRQ (30.0 - 40.0)\n",
      "2017-09-29 15:54:03,242 - audiosetdl - INFO - Downloaded video BIaloqYG5DA (30.0 - 40.0)\n",
      "2017-09-29 15:54:03,248 - audiosetdl - INFO - Attempting to download video iaWAlnr4dU8 (140.0 - 150.0)\n",
      "2017-09-29 15:54:04,058 - audiosetdl - ERROR - Error while processing video iaWAlnr4dU8: 'NoneType' object has no attribute 'url'; Traceback (most recent call last):\n",
      "  File \"../download_audioset.py\", line 355, in segment_mp_worker\n",
      "    download_yt_video(ytid, ts_start, ts_end, data_dir, ffmpeg_path, **ffmpeg_cfg)\n",
      "  File \"../download_audioset.py\", line 291, in download_yt_video\n",
      "    best_video_url = best_video.url\n",
      "AttributeError: 'NoneType' object has no attribute 'url'\n",
      "\n",
      "2017-09-29 15:54:04,082 - audiosetdl - INFO - Attempting to download video zLv0wo9n1Ts (20.0 - 30.0)\n",
      "2017-09-29 15:54:04,089 - audiosetdl - INFO - Downloaded video I3zwXIKToXc (20.0 - 30.0)\n",
      "2017-09-29 15:54:04,095 - audiosetdl - INFO - Attempting to download video lnrNzyDHTe8 (170.0 - 180.0)\n",
      "2017-09-29 15:54:06,121 - audiosetdl - INFO - Downloaded video HKy0NSF4oRQ (30.0 - 40.0)\n",
      "2017-09-29 15:54:06,125 - audiosetdl - INFO - Attempting to download video 0fFIg5WLnm0 (30.0 - 40.0)\n",
      "2017-09-29 15:54:12,615 - audiosetdl - INFO - Downloaded video zLv0wo9n1Ts (20.0 - 30.0)\n",
      "2017-09-29 15:54:12,622 - audiosetdl - INFO - Attempting to download video rVQega7wLSk (200.0 - 210.0)\n",
      "2017-09-29 15:54:14,200 - audiosetdl - INFO - Downloaded video 0fFIg5WLnm0 (30.0 - 40.0)\n",
      "2017-09-29 15:54:14,213 - audiosetdl - INFO - Attempting to download video 8Q3pHpuxZRg (460.0 - 470.0)\n",
      "2017-09-29 15:54:18,557 - audiosetdl - INFO - Downloaded video lnrNzyDHTe8 (170.0 - 180.0)\n",
      "2017-09-29 15:54:18,582 - audiosetdl - INFO - Attempting to download video TXKODIvIqGI (320.0 - 330.0)\n",
      "2017-09-29 15:54:30,550 - audiosetdl - INFO - Downloaded video rVQega7wLSk (200.0 - 210.0)\n",
      "2017-09-29 15:54:30,566 - audiosetdl - INFO - Attempting to download video 2W6YgQeEr8U (0.0 - 10.0)\n",
      "2017-09-29 15:54:30,927 - audiosetdl - INFO - Downloaded video 68HVZzEravA (30.0 - 40.0)\n",
      "2017-09-29 15:54:30,929 - audiosetdl - INFO - Attempting to download video CnLzWqG3tEk (30.0 - 40.0)\n",
      "2017-09-29 15:54:34,695 - audiosetdl - INFO - Downloaded video 8Q3pHpuxZRg (460.0 - 470.0)\n",
      "2017-09-29 15:54:34,706 - audiosetdl - INFO - Attempting to download video 8z-7VW_4-zM (300.0 - 310.0)\n",
      "2017-09-29 15:54:34,954 - audiosetdl - INFO - Downloaded video 2W6YgQeEr8U (0.0 - 10.0)\n",
      "2017-09-29 15:54:34,970 - audiosetdl - INFO - Attempting to download video h1H_GaajDak (30.0 - 40.0)\n",
      "2017-09-29 15:54:41,543 - audiosetdl - INFO - Downloaded video CnLzWqG3tEk (30.0 - 40.0)\n",
      "2017-09-29 15:54:41,559 - audiosetdl - INFO - Attempting to download video -28U1_qW0sU (30.0 - 40.0)\n",
      "2017-09-29 15:54:48,665 - audiosetdl - INFO - Downloaded video -28U1_qW0sU (30.0 - 40.0)\n",
      "2017-09-29 15:54:48,669 - audiosetdl - INFO - Attempting to download video Xu0J2UiyinY (580.0 - 590.0)\n",
      "2017-09-29 15:54:48,818 - audiosetdl - INFO - Downloaded video 8z-7VW_4-zM (300.0 - 310.0)\n",
      "2017-09-29 15:54:48,827 - audiosetdl - INFO - Attempting to download video oBwt8T8P8Zs (380.0 - 390.0)\n",
      "2017-09-29 15:54:54,993 - audiosetdl - INFO - Downloaded video h1H_GaajDak (30.0 - 40.0)\n",
      "2017-09-29 15:54:55,012 - audiosetdl - INFO - Attempting to download video JCAJJfRUH94 (120.0 - 130.0)\n",
      "2017-09-29 15:54:55,054 - audiosetdl - INFO - Downloaded video Xu0J2UiyinY (580.0 - 590.0)\n",
      "2017-09-29 15:54:55,058 - audiosetdl - INFO - Attempting to download video BzQzsbns0wk (30.0 - 40.0)\n",
      "2017-09-29 15:55:05,850 - audiosetdl - INFO - Downloaded video oBwt8T8P8Zs (380.0 - 390.0)\n",
      "2017-09-29 15:55:05,860 - audiosetdl - INFO - Attempting to download video R0AJ_4W0f8k (0.0 - 10.0)\n",
      "2017-09-29 15:55:09,741 - audiosetdl - INFO - Downloaded video R0AJ_4W0f8k (0.0 - 10.0)\n",
      "2017-09-29 15:55:09,762 - audiosetdl - INFO - Attempting to download video U2qaDIULgew (190.0 - 200.0)\n",
      "2017-09-29 15:55:12,468 - audiosetdl - INFO - Downloaded video U2qaDIULgew (190.0 - 200.0)\n",
      "2017-09-29 15:55:12,490 - audiosetdl - INFO - Attempting to download video T2AOK88EjT0 (270.0 - 280.0)\n",
      "2017-09-29 15:55:29,491 - audiosetdl - INFO - Downloaded video TXKODIvIqGI (320.0 - 330.0)\n",
      "2017-09-29 15:55:29,503 - audiosetdl - INFO - Attempting to download video rNxj6t7ocQc (160.0 - 170.0)\n",
      "2017-09-29 15:55:36,922 - audiosetdl - INFO - Downloaded video JCAJJfRUH94 (120.0 - 130.0)\n",
      "2017-09-29 15:55:36,931 - audiosetdl - INFO - Attempting to download video QvxNmz0GIOY (210.0 - 220.0)\n",
      "2017-09-29 15:55:56,980 - audiosetdl - INFO - Downloaded video T2AOK88EjT0 (270.0 - 280.0)\n",
      "2017-09-29 15:55:56,986 - audiosetdl - INFO - Attempting to download video 9EzV2FqY2y8 (110.0 - 120.0)\n",
      "2017-09-29 15:56:13,689 - audiosetdl - INFO - Downloaded video 9EzV2FqY2y8 (110.0 - 120.0)\n",
      "2017-09-29 15:56:13,698 - audiosetdl - INFO - Attempting to download video UrToRNte8cU (10.0 - 20.0)\n",
      "2017-09-29 15:56:24,902 - audiosetdl - INFO - Downloaded video UrToRNte8cU (10.0 - 20.0)\n",
      "2017-09-29 15:56:24,906 - audiosetdl - INFO - Attempting to download video 5fraQQFOyWQ (30.0 - 40.0)\n",
      "2017-09-29 15:56:49,918 - audiosetdl - INFO - Downloaded video QvxNmz0GIOY (210.0 - 220.0)\n",
      "2017-09-29 15:56:49,939 - audiosetdl - INFO - Attempting to download video eSIxvnEQ6R0 (420.0 - 430.0)\n",
      "2017-09-29 15:56:52,165 - audiosetdl - INFO - Downloaded video BzQzsbns0wk (30.0 - 40.0)\n",
      "2017-09-29 15:56:52,176 - audiosetdl - INFO - Attempting to download video fDBzeSQoTu8 (120.0 - 130.0)\n",
      "2017-09-29 15:56:54,302 - audiosetdl - INFO - Downloaded video eSIxvnEQ6R0 (420.0 - 430.0)\n",
      "2017-09-29 15:56:54,306 - audiosetdl - INFO - Attempting to download video ZO5Y6WWLwh8 (0.0 - 10.0)\n",
      "2017-09-29 15:56:59,944 - audiosetdl - INFO - Downloaded video ZO5Y6WWLwh8 (0.0 - 10.0)\n",
      "2017-09-29 15:56:59,955 - audiosetdl - INFO - Attempting to download video WhI_e7hH99w (120.0 - 130.0)\n"
     ]
    },
    {
     "name": "stderr",
     "output_type": "stream",
     "text": [
      "2017-09-29 15:57:04,605 - audiosetdl - INFO - Downloaded video 5fraQQFOyWQ (30.0 - 40.0)\n",
      "2017-09-29 15:57:04,613 - audiosetdl - INFO - Attempting to download video Ao9pQPwLNHA (30.0 - 40.0)\n",
      "2017-09-29 15:57:06,000 - audiosetdl - INFO - Downloaded video fDBzeSQoTu8 (120.0 - 130.0)\n",
      "2017-09-29 15:57:06,004 - audiosetdl - INFO - Attempting to download video OBJM1TqPvu4 (470.0 - 480.0)\n",
      "2017-09-29 15:57:08,508 - audiosetdl - INFO - Downloaded video WhI_e7hH99w (120.0 - 130.0)\n",
      "2017-09-29 15:57:08,516 - audiosetdl - INFO - Attempting to download video Yfr3NlwLenM (20.0 - 30.0)\n",
      "2017-09-29 15:57:08,843 - audiosetdl - INFO - Downloaded video Ao9pQPwLNHA (30.0 - 40.0)\n",
      "2017-09-29 15:57:08,849 - audiosetdl - INFO - Attempting to download video zTda7wonrBg (80.0 - 90.0)\n",
      "2017-09-29 15:57:09,709 - audiosetdl - INFO - Downloaded video rNxj6t7ocQc (160.0 - 170.0)\n",
      "2017-09-29 15:57:09,712 - audiosetdl - INFO - Attempting to download video wdNqMwBbv-k (11.0 - 21.0)\n",
      "2017-09-29 15:57:11,578 - audiosetdl - INFO - Downloaded video OBJM1TqPvu4 (470.0 - 480.0)\n",
      "2017-09-29 15:57:11,598 - audiosetdl - INFO - Attempting to download video zLQOrGihwSU (150.0 - 160.0)\n",
      "2017-09-29 15:57:18,269 - audiosetdl - INFO - Downloaded video Yfr3NlwLenM (20.0 - 30.0)\n",
      "2017-09-29 15:57:18,278 - audiosetdl - INFO - Attempting to download video 8HdKHSXAFYQ (120.0 - 130.0)\n",
      "2017-09-29 15:57:19,959 - audiosetdl - INFO - Downloaded video wdNqMwBbv-k (11.0 - 21.0)\n",
      "2017-09-29 15:57:19,962 - audiosetdl - INFO - Attempting to download video 5NqDdoLAUjE (30.0 - 40.0)\n",
      "2017-09-29 15:57:21,157 - audiosetdl - INFO - Downloaded video zLQOrGihwSU (150.0 - 160.0)\n",
      "2017-09-29 15:57:21,183 - audiosetdl - INFO - Attempting to download video PFtcnQqLdEc (270.0 - 280.0)\n",
      "2017-09-29 15:57:23,326 - audiosetdl - INFO - Downloaded video 8HdKHSXAFYQ (120.0 - 130.0)\n",
      "2017-09-29 15:57:23,335 - audiosetdl - INFO - Attempting to download video gPNBdfJ3LlU (40.0 - 50.0)\n",
      "2017-09-29 15:57:24,634 - audiosetdl - ERROR - Error while downloading video gPNBdfJ3LlU: Got non-zero exit code (1) from command \"../bin/ffmpeg/ffmpeg\": http://r1---sn-a8au-xfge.googlevideo.com/videoplayback/id/80f34175f2772e55/itag/135/source/yt_otf/ei/o6XOWYKqNcf48gSpmYXIDQ/ms/au/pl/17/mv/m/mm/31/mn/sn-a8au-xfge/initcwndbps/5640000/ratebypass/yes/mime/video%2Fmp4/otfp/1/otf/1/lmt/1481128428742020/signature/62CF3986DDC958D957D18BE599696D12B2542D1B.15066417979D37C64E5D972D3CB20636F35F0004/mt/1506714943/key/dg_yt0/ip/216.165.95.165/ipbits/0/expire/1506736643/sparams/ip,ipbits,expire,id,itag,source,ei,ms,pl,mv,mm,mn,initcwndbps,ratebypass,mime,otfp,otf,lmt/: Server returned 404 Not Found\n",
      "; Traceback (most recent call last):\n",
      "  File \"../download_audioset.py\", line 355, in segment_mp_worker\n",
      "    download_yt_video(ytid, ts_start, ts_end, data_dir, ffmpeg_path, **ffmpeg_cfg)\n",
      "  File \"../download_audioset.py\", line 305, in download_yt_video\n",
      "    input_args=video_input_args, output_args=video_output_args)\n",
      "  File \"../download_audioset.py\", line 219, in ffmpeg\n",
      "    raise e\n",
      "  File \"../download_audioset.py\", line 216, in ffmpeg\n",
      "    run_command(args)\n",
      "  File \"../download_audioset.py\", line 183, in run_command\n",
      "    raise SubprocessError(cmd, return_code, stdout.decode(), stderr.decode())\n",
      "download_audioset.SubprocessError: Got non-zero exit code (1) from command \"../bin/ffmpeg/ffmpeg\": http://r1---sn-a8au-xfge.googlevideo.com/videoplayback/id/80f34175f2772e55/itag/135/source/yt_otf/ei/o6XOWYKqNcf48gSpmYXIDQ/ms/au/pl/17/mv/m/mm/31/mn/sn-a8au-xfge/initcwndbps/5640000/ratebypass/yes/mime/video%2Fmp4/otfp/1/otf/1/lmt/1481128428742020/signature/62CF3986DDC958D957D18BE599696D12B2542D1B.15066417979D37C64E5D972D3CB20636F35F0004/mt/1506714943/key/dg_yt0/ip/216.165.95.165/ipbits/0/expire/1506736643/sparams/ip,ipbits,expire,id,itag,source,ei,ms,pl,mv,mm,mn,initcwndbps,ratebypass,mime,otfp,otf,lmt/: Server returned 404 Not Found\n",
      "\n",
      "\n",
      "2017-09-29 15:57:24,651 - audiosetdl - INFO - Attempting to download video c_01NsuSCwI (0.0 - 10.0)\n",
      "2017-09-29 15:57:25,130 - audiosetdl - INFO - Downloaded video PFtcnQqLdEc (270.0 - 280.0)\n",
      "2017-09-29 15:57:25,137 - audiosetdl - INFO - Attempting to download video Ue8tRqk8Xlg (30.0 - 40.0)\n",
      "2017-09-29 15:57:27,134 - audiosetdl - INFO - Downloaded video Ue8tRqk8Xlg (30.0 - 40.0)\n",
      "2017-09-29 15:57:27,136 - audiosetdl - INFO - Attempting to download video and39TYJrEI (0.0 - 10.0)\n",
      "2017-09-29 15:57:33,413 - audiosetdl - INFO - Downloaded video 5NqDdoLAUjE (30.0 - 40.0)\n",
      "2017-09-29 15:57:33,427 - audiosetdl - INFO - Attempting to download video Pm_jOABycGA (30.0 - 40.0)\n",
      "2017-09-29 15:57:34,104 - audiosetdl - INFO - Downloaded video c_01NsuSCwI (0.0 - 10.0)\n",
      "2017-09-29 15:57:34,117 - audiosetdl - INFO - Attempting to download video VXnHav1KTos (230.0 - 240.0)\n",
      "2017-09-29 15:57:35,156 - audiosetdl - INFO - Downloaded video zTda7wonrBg (80.0 - 90.0)\n",
      "2017-09-29 15:57:35,162 - audiosetdl - INFO - Attempting to download video TehjTZRy48o (20.0 - 30.0)\n",
      "2017-09-29 15:57:50,362 - audiosetdl - INFO - Downloaded video TehjTZRy48o (20.0 - 30.0)\n",
      "2017-09-29 15:57:50,377 - audiosetdl - INFO - Attempting to download video eX2coDMQWxs (160.0 - 170.0)\n",
      "2017-09-29 15:57:51,829 - audiosetdl - INFO - Downloaded video and39TYJrEI (0.0 - 10.0)\n",
      "2017-09-29 15:57:51,846 - audiosetdl - INFO - Attempting to download video WaLDwN9Lejs (90.0 - 100.0)\n",
      "2017-09-29 15:57:53,962 - audiosetdl - INFO - Downloaded video VXnHav1KTos (230.0 - 240.0)\n",
      "2017-09-29 15:57:53,967 - audiosetdl - INFO - Attempting to download video VLowzUxlyyg (290.0 - 300.0)\n",
      "2017-09-29 15:57:55,964 - audiosetdl - INFO - Downloaded video WaLDwN9Lejs (90.0 - 100.0)\n",
      "2017-09-29 15:57:55,983 - audiosetdl - INFO - Attempting to download video 2gkoNwdaBm8 (370.0 - 380.0)\n",
      "2017-09-29 15:57:59,852 - audiosetdl - INFO - Downloaded video VLowzUxlyyg (290.0 - 300.0)\n",
      "2017-09-29 15:57:59,858 - audiosetdl - INFO - Attempting to download video LgTClkabmqc (170.0 - 180.0)\n",
      "2017-09-29 15:58:13,877 - audiosetdl - INFO - Downloaded video LgTClkabmqc (170.0 - 180.0)\n",
      "2017-09-29 15:58:13,896 - audiosetdl - INFO - Attempting to download video J8xY1eaeu8Y (30.0 - 40.0)\n",
      "2017-09-29 15:58:16,617 - audiosetdl - INFO - Downloaded video Pm_jOABycGA (30.0 - 40.0)\n",
      "2017-09-29 15:58:16,630 - audiosetdl - INFO - Attempting to download video 2-wbou8tdYE (260.0 - 270.0)\n",
      "2017-09-29 15:58:20,691 - audiosetdl - INFO - Downloaded video 2-wbou8tdYE (260.0 - 270.0)\n",
      "2017-09-29 15:58:20,696 - audiosetdl - INFO - Attempting to download video ylaJ6AqoTR4 (10.0 - 20.0)\n",
      "2017-09-29 15:58:25,655 - audiosetdl - INFO - Downloaded video 2gkoNwdaBm8 (370.0 - 380.0)\n",
      "2017-09-29 15:58:25,663 - audiosetdl - INFO - Attempting to download video qsQ_mRrqrTs (0.0 - 10.0)\n",
      "2017-09-29 15:58:25,667 - audiosetdl - INFO - Downloaded video ylaJ6AqoTR4 (10.0 - 20.0)\n",
      "2017-09-29 15:58:25,684 - audiosetdl - INFO - Attempting to download video ZCLPMxd05Ws (60.0 - 70.0)\n",
      "2017-09-29 15:58:33,078 - audiosetdl - INFO - Downloaded video ZCLPMxd05Ws (60.0 - 70.0)\n",
      "2017-09-29 15:58:33,082 - audiosetdl - INFO - Attempting to download video 9LDw8ke99oA (70.0 - 80.0)\n",
      "2017-09-29 15:58:35,615 - audiosetdl - INFO - Downloaded video qsQ_mRrqrTs (0.0 - 10.0)\n",
      "2017-09-29 15:58:35,625 - audiosetdl - INFO - Attempting to download video ZcPzG1adD74 (150.0 - 160.0)\n",
      "2017-09-29 15:58:49,558 - audiosetdl - INFO - Downloaded video ZcPzG1adD74 (150.0 - 160.0)\n",
      "2017-09-29 15:58:49,561 - audiosetdl - INFO - Attempting to download video rUx65-WvXr4 (40.0 - 50.0)\n",
      "2017-09-29 15:58:56,230 - audiosetdl - INFO - Downloaded video rUx65-WvXr4 (40.0 - 50.0)\n",
      "2017-09-29 15:58:56,238 - audiosetdl - INFO - Attempting to download video RpC9asjOcVQ (500.0 - 510.0)\n",
      "2017-09-29 15:59:01,532 - audiosetdl - INFO - Downloaded video eX2coDMQWxs (160.0 - 170.0)\n",
      "2017-09-29 15:59:01,543 - audiosetdl - INFO - Attempting to download video JPSOn5UITnI (80.0 - 90.0)\n",
      "2017-09-29 15:59:17,914 - audiosetdl - INFO - Downloaded video RpC9asjOcVQ (500.0 - 510.0)\n",
      "2017-09-29 15:59:17,919 - audiosetdl - INFO - Attempting to download video KZrj6IIBHVE (240.0 - 250.0)\n",
      "2017-09-29 15:59:19,606 - audiosetdl - INFO - Downloaded video JPSOn5UITnI (80.0 - 90.0)\n",
      "2017-09-29 15:59:20,438 - audiosetdl - INFO - Downloaded video 9LDw8ke99oA (70.0 - 80.0)\n",
      "2017-09-29 15:59:20,767 - audiosetdl - INFO - Downloaded video KZrj6IIBHVE (240.0 - 250.0)\n"
     ]
    },
    {
     "name": "stderr",
     "output_type": "stream",
     "text": [
      "2017-09-29 15:59:23,652 - audiosetdl - INFO - Downloaded video J8xY1eaeu8Y (30.0 - 40.0)\n",
      "2017-09-29 15:59:23,744 - audiosetdl - INFO - Finished download jobs for subset \"balanced_train_segments\"\n"
     ]
    }
   ],
   "source": [
    "random.seed(random_seed)\n",
    "t_start = time.time()\n",
    "download_random_subset_files(BALANCED_TRAIN_URL, data_dir, ffmpeg_path, 4, max_videos=100, video_mode='bestvideo')\n",
    "t_vwoa = time.time() - t_start"
   ]
  },
  {
   "cell_type": "code",
   "execution_count": 10,
   "metadata": {},
   "outputs": [
    {
     "name": "stdout",
     "output_type": "stream",
     "text": [
      ".mp4\n",
      "==========================\n",
      "Number of files:\t97\n",
      "Total size:\t\t156.47 MB\n",
      "Mean:\t\t\t1.61 MB\n",
      "Median:\t\t\t0.94 MB\n",
      "Std. Dev.:\t\t2.08 MB\n",
      "\n",
      "Estimated Size for 2.1MM Tracks:\t3.39 TB\n"
     ]
    },
    {
     "data": {
      "image/png": "[encoded data removed]",
      "text/plain": [
       "<matplotlib.figure.Figure at 0x7fa137e6ae48>"
      ]
     },
     "metadata": {},
     "output_type": "display_data"
    },
    {
     "name": "stdout",
     "output_type": "stream",
     "text": [
      ".flac\n",
      "==========================\n",
      "Number of files:\t98\n",
      "Total size:\t\t67.32 MB\n",
      "Mean:\t\t\t0.69 MB\n",
      "Median:\t\t\t0.66 MB\n",
      "Std. Dev.:\t\t0.30 MB\n",
      "\n",
      "Estimated Size for 2.1MM Tracks:\t1.44 TB\n"
     ]
    },
    {
     "data": {
      "image/png": "[encoded data removed]",
      "text/plain": [
       "<matplotlib.figure.Figure at 0x7fa137d72cc0>"
      ]
     },
     "metadata": {},
     "output_type": "display_data"
    },
    {
     "name": "stdout",
     "output_type": "stream",
     "text": [
      "Total processing time:\t553.55 sec\n",
      "Processing time per video:\t5.65 sec\n"
     ]
    }
   ],
   "source": [
    "examine_results(data_dir, ['.mp4', '.flac'], t_vwoa)"
   ]
  },
  {
   "cell_type": "code",
   "execution_count": 12,
   "metadata": {
    "collapsed": true
   },
   "outputs": [],
   "source": [
    "shutil.rmtree(data_dir)"
   ]
  },
  {
   "cell_type": "markdown",
   "metadata": {
    "collapsed": true
   },
   "source": [
    "# Examine the distribution of file sizes per file type when video file is best quality without audio, and merged with audio"
   ]
  },
  {
   "cell_type": "code",
   "execution_count": null,
   "metadata": {
    "collapsed": true
   },
   "outputs": [],
   "source": [
    "random.seed(random_seed)\n",
    "t_start = time.time()\n",
    "download_random_subset_files(BALANCED_TRAIN_URL, data_dir, ffmpeg_path, 4, max_videos=100, video_mode='bestvideowithaudio')\n",
    "t_vam = time.time() - t_start"
   ]
  },
  {
   "cell_type": "code",
   "execution_count": 13,
   "metadata": {},
   "outputs": [
    {
     "name": "stdout",
     "output_type": "stream",
     "text": [
      ".mp4\n",
      "==========================\n",
      "Number of files:\t97\n",
      "Total size:\t\t172.38 MB\n",
      "Mean:\t\t\t1.78 MB\n",
      "Median:\t\t\t1.06 MB\n",
      "Std. Dev.:\t\t2.08 MB\n",
      "\n",
      "Estimated Size for 2.1MM Tracks:\t3.73 TB\n"
     ]
    },
    {
     "data": {
      "image/png": "[encoded data removed]",
      "text/plain": [
       "<matplotlib.figure.Figure at 0x7fa137b11f60>"
      ]
     },
     "metadata": {},
     "output_type": "display_data"
    },
    {
     "name": "stdout",
     "output_type": "stream",
     "text": [
      ".flac\n",
      "==========================\n",
      "Number of files:\t98\n",
      "Total size:\t\t67.32 MB\n",
      "Mean:\t\t\t0.69 MB\n",
      "Median:\t\t\t0.66 MB\n",
      "Std. Dev.:\t\t0.30 MB\n",
      "\n",
      "Estimated Size for 2.1MM Tracks:\t1.44 TB\n"
     ]
    },
    {
     "data": {
      "image/png": "[encoded data removed]",
      "text/plain": [
       "<matplotlib.figure.Figure at 0x7fa137db2278>"
      ]
     },
     "metadata": {},
     "output_type": "display_data"
    },
    {
     "name": "stdout",
     "output_type": "stream",
     "text": [
      "Total processing time:\t1128.93 sec\n",
      "Processing time per video:\t11.52 sec\n"
     ]
    }
   ],
   "source": [
    "examine_results(data_dir, ['.mp4', '.flac'], t_vam)"
   ]
  },
  {
   "cell_type": "code",
   "execution_count": null,
   "metadata": {
    "collapsed": true
   },
   "outputs": [],
   "source": [
    "shutil.rmtree(data_dir)"
   ]
  }
 ],
 "metadata": {
  "kernelspec": {
   "display_name": "Python 3",
   "language": "python",
   "name": "python3"
  },
  "language_info": {
   "codemirror_mode": {
    "name": "ipython",
    "version": 3
   },
   "file_extension": ".py",
   "mimetype": "text/x-python",
   "name": "python",
   "nbconvert_exporter": "python",
   "pygments_lexer": "ipython3",
   "version": "3.6.1"
  }
 },
 "nbformat": 4,
 "nbformat_minor": 2
}
